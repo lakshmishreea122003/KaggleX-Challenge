{
 "cells": [
  {
   "cell_type": "code",
   "execution_count": 1,
   "id": "4f2fca9b",
   "metadata": {},
   "outputs": [],
   "source": [
    "# import modules\n",
    "import numpy as np \n",
    "import pandas as pd \n",
    "import matplotlib.pyplot as plt\n",
    "import seaborn as sns\n",
    "from sklearn.preprocessing import StandardScaler, LabelEncoder\n",
    "from sklearn.model_selection import train_test_split\n",
    "from sklearn.linear_model import LinearRegression\n",
    "from sklearn.metrics import mean_squared_error,r2_score"
   ]
  },
  {
   "cell_type": "code",
   "execution_count": 2,
   "id": "608f96dd",
   "metadata": {},
   "outputs": [],
   "source": [
    "# evaluation metric\n",
    "# rms = mean_squared_error(y_actual, y_predicted, squared=False)"
   ]
  },
  {
   "cell_type": "code",
   "execution_count": 3,
   "id": "1bcd5691",
   "metadata": {},
   "outputs": [],
   "source": [
    "# data\n",
    "df = pd.read_csv(r\"C:\\Users\\Lakshmi\\Downloads\\kagglex-cohort4 (1)\\train.csv\")"
   ]
  },
  {
   "cell_type": "code",
   "execution_count": 4,
   "id": "a340b0d7",
   "metadata": {},
   "outputs": [],
   "source": [
    "# data checks to perform"
   ]
  },
  {
   "cell_type": "code",
   "execution_count": 5,
   "id": "8b87b693",
   "metadata": {},
   "outputs": [
    {
     "data": {
      "text/plain": [
       "id              0\n",
       "brand           0\n",
       "model           0\n",
       "model_year      0\n",
       "milage          0\n",
       "fuel_type       0\n",
       "engine          0\n",
       "transmission    0\n",
       "ext_col         0\n",
       "int_col         0\n",
       "accident        0\n",
       "clean_title     0\n",
       "price           0\n",
       "dtype: int64"
      ]
     },
     "execution_count": 5,
     "metadata": {},
     "output_type": "execute_result"
    }
   ],
   "source": [
    "# check missing\n",
    "df.isnull().sum()"
   ]
  },
  {
   "cell_type": "code",
   "execution_count": 6,
   "id": "4497029d",
   "metadata": {},
   "outputs": [
    {
     "data": {
      "text/plain": [
       "0"
      ]
     },
     "execution_count": 6,
     "metadata": {},
     "output_type": "execute_result"
    }
   ],
   "source": [
    "# duplicates\n",
    "df.duplicated().sum()"
   ]
  },
  {
   "cell_type": "code",
   "execution_count": 7,
   "id": "658035d6",
   "metadata": {},
   "outputs": [
    {
     "data": {
      "text/plain": [
       "id               int64\n",
       "brand           object\n",
       "model           object\n",
       "model_year       int64\n",
       "milage           int64\n",
       "fuel_type       object\n",
       "engine          object\n",
       "transmission    object\n",
       "ext_col         object\n",
       "int_col         object\n",
       "accident        object\n",
       "clean_title     object\n",
       "price            int64\n",
       "dtype: object"
      ]
     },
     "execution_count": 7,
     "metadata": {},
     "output_type": "execute_result"
    }
   ],
   "source": [
    "# datatypes\n",
    "df.dtypes"
   ]
  },
  {
   "cell_type": "code",
   "execution_count": 8,
   "id": "19ba3af9",
   "metadata": {},
   "outputs": [
    {
     "data": {
      "text/plain": [
       "id              54273\n",
       "brand              53\n",
       "model            1827\n",
       "model_year         34\n",
       "milage           3212\n",
       "fuel_type           7\n",
       "engine           1061\n",
       "transmission       46\n",
       "ext_col           260\n",
       "int_col           124\n",
       "accident            2\n",
       "clean_title         1\n",
       "price            1481\n",
       "dtype: int64"
      ]
     },
     "execution_count": 8,
     "metadata": {},
     "output_type": "execute_result"
    }
   ],
   "source": [
    "# unique values in column\n",
    "df.nunique()"
   ]
  },
  {
   "cell_type": "code",
   "execution_count": 9,
   "id": "e2d20ac2",
   "metadata": {},
   "outputs": [
    {
     "data": {
      "text/plain": [
       "54273"
      ]
     },
     "execution_count": 9,
     "metadata": {},
     "output_type": "execute_result"
    }
   ],
   "source": [
    "len(df)"
   ]
  },
  {
   "cell_type": "code",
   "execution_count": 10,
   "id": "a62a2f4e",
   "metadata": {},
   "outputs": [
    {
     "data": {
      "text/plain": [
       "(54273, 13)"
      ]
     },
     "execution_count": 10,
     "metadata": {},
     "output_type": "execute_result"
    }
   ],
   "source": [
    "df.shape"
   ]
  },
  {
   "cell_type": "code",
   "execution_count": 11,
   "id": "5156d6a3",
   "metadata": {},
   "outputs": [
    {
     "data": {
      "text/html": [
       "<div>\n",
       "<style scoped>\n",
       "    .dataframe tbody tr th:only-of-type {\n",
       "        vertical-align: middle;\n",
       "    }\n",
       "\n",
       "    .dataframe tbody tr th {\n",
       "        vertical-align: top;\n",
       "    }\n",
       "\n",
       "    .dataframe thead th {\n",
       "        text-align: right;\n",
       "    }\n",
       "</style>\n",
       "<table border=\"1\" class=\"dataframe\">\n",
       "  <thead>\n",
       "    <tr style=\"text-align: right;\">\n",
       "      <th></th>\n",
       "      <th>id</th>\n",
       "      <th>model_year</th>\n",
       "      <th>milage</th>\n",
       "      <th>price</th>\n",
       "    </tr>\n",
       "  </thead>\n",
       "  <tbody>\n",
       "    <tr>\n",
       "      <th>count</th>\n",
       "      <td>54273.000000</td>\n",
       "      <td>54273.000000</td>\n",
       "      <td>54273.000000</td>\n",
       "      <td>5.427300e+04</td>\n",
       "    </tr>\n",
       "    <tr>\n",
       "      <th>mean</th>\n",
       "      <td>27136.000000</td>\n",
       "      <td>2015.091979</td>\n",
       "      <td>72746.175667</td>\n",
       "      <td>3.921844e+04</td>\n",
       "    </tr>\n",
       "    <tr>\n",
       "      <th>std</th>\n",
       "      <td>15667.409917</td>\n",
       "      <td>5.588909</td>\n",
       "      <td>50469.490448</td>\n",
       "      <td>7.282634e+04</td>\n",
       "    </tr>\n",
       "    <tr>\n",
       "      <th>min</th>\n",
       "      <td>0.000000</td>\n",
       "      <td>1974.000000</td>\n",
       "      <td>100.000000</td>\n",
       "      <td>2.000000e+03</td>\n",
       "    </tr>\n",
       "    <tr>\n",
       "      <th>25%</th>\n",
       "      <td>13568.000000</td>\n",
       "      <td>2012.000000</td>\n",
       "      <td>32268.000000</td>\n",
       "      <td>1.550000e+04</td>\n",
       "    </tr>\n",
       "    <tr>\n",
       "      <th>50%</th>\n",
       "      <td>27136.000000</td>\n",
       "      <td>2016.000000</td>\n",
       "      <td>66107.000000</td>\n",
       "      <td>2.800000e+04</td>\n",
       "    </tr>\n",
       "    <tr>\n",
       "      <th>75%</th>\n",
       "      <td>40704.000000</td>\n",
       "      <td>2019.000000</td>\n",
       "      <td>102000.000000</td>\n",
       "      <td>4.500000e+04</td>\n",
       "    </tr>\n",
       "    <tr>\n",
       "      <th>max</th>\n",
       "      <td>54272.000000</td>\n",
       "      <td>2024.000000</td>\n",
       "      <td>405000.000000</td>\n",
       "      <td>2.954083e+06</td>\n",
       "    </tr>\n",
       "  </tbody>\n",
       "</table>\n",
       "</div>"
      ],
      "text/plain": [
       "                 id    model_year         milage         price\n",
       "count  54273.000000  54273.000000   54273.000000  5.427300e+04\n",
       "mean   27136.000000   2015.091979   72746.175667  3.921844e+04\n",
       "std    15667.409917      5.588909   50469.490448  7.282634e+04\n",
       "min        0.000000   1974.000000     100.000000  2.000000e+03\n",
       "25%    13568.000000   2012.000000   32268.000000  1.550000e+04\n",
       "50%    27136.000000   2016.000000   66107.000000  2.800000e+04\n",
       "75%    40704.000000   2019.000000  102000.000000  4.500000e+04\n",
       "max    54272.000000   2024.000000  405000.000000  2.954083e+06"
      ]
     },
     "execution_count": 11,
     "metadata": {},
     "output_type": "execute_result"
    }
   ],
   "source": [
    "df.describe()"
   ]
  },
  {
   "cell_type": "code",
   "execution_count": 12,
   "id": "97a7c419",
   "metadata": {},
   "outputs": [],
   "source": [
    "# insights from the data\n",
    "# describe"
   ]
  },
  {
   "cell_type": "code",
   "execution_count": 13,
   "id": "0559a06e",
   "metadata": {},
   "outputs": [
    {
     "data": {
      "text/html": [
       "<div>\n",
       "<style scoped>\n",
       "    .dataframe tbody tr th:only-of-type {\n",
       "        vertical-align: middle;\n",
       "    }\n",
       "\n",
       "    .dataframe tbody tr th {\n",
       "        vertical-align: top;\n",
       "    }\n",
       "\n",
       "    .dataframe thead th {\n",
       "        text-align: right;\n",
       "    }\n",
       "</style>\n",
       "<table border=\"1\" class=\"dataframe\">\n",
       "  <thead>\n",
       "    <tr style=\"text-align: right;\">\n",
       "      <th></th>\n",
       "      <th>id</th>\n",
       "      <th>brand</th>\n",
       "      <th>model</th>\n",
       "      <th>model_year</th>\n",
       "      <th>milage</th>\n",
       "      <th>fuel_type</th>\n",
       "      <th>engine</th>\n",
       "      <th>transmission</th>\n",
       "      <th>ext_col</th>\n",
       "      <th>int_col</th>\n",
       "      <th>accident</th>\n",
       "      <th>clean_title</th>\n",
       "      <th>price</th>\n",
       "    </tr>\n",
       "  </thead>\n",
       "  <tbody>\n",
       "    <tr>\n",
       "      <th>0</th>\n",
       "      <td>0</td>\n",
       "      <td>Ford</td>\n",
       "      <td>F-150 Lariat</td>\n",
       "      <td>2018</td>\n",
       "      <td>74349</td>\n",
       "      <td>Gasoline</td>\n",
       "      <td>375.0HP 3.5L V6 Cylinder Engine Gasoline Fuel</td>\n",
       "      <td>10-Speed A/T</td>\n",
       "      <td>Blue</td>\n",
       "      <td>Gray</td>\n",
       "      <td>None reported</td>\n",
       "      <td>Yes</td>\n",
       "      <td>11000</td>\n",
       "    </tr>\n",
       "    <tr>\n",
       "      <th>1</th>\n",
       "      <td>1</td>\n",
       "      <td>BMW</td>\n",
       "      <td>335 i</td>\n",
       "      <td>2007</td>\n",
       "      <td>80000</td>\n",
       "      <td>Gasoline</td>\n",
       "      <td>300.0HP 3.0L Straight 6 Cylinder Engine Gasoli...</td>\n",
       "      <td>6-Speed M/T</td>\n",
       "      <td>Black</td>\n",
       "      <td>Black</td>\n",
       "      <td>None reported</td>\n",
       "      <td>Yes</td>\n",
       "      <td>8250</td>\n",
       "    </tr>\n",
       "    <tr>\n",
       "      <th>2</th>\n",
       "      <td>2</td>\n",
       "      <td>Jaguar</td>\n",
       "      <td>XF Luxury</td>\n",
       "      <td>2009</td>\n",
       "      <td>91491</td>\n",
       "      <td>Gasoline</td>\n",
       "      <td>300.0HP 4.2L 8 Cylinder Engine Gasoline Fuel</td>\n",
       "      <td>6-Speed A/T</td>\n",
       "      <td>Purple</td>\n",
       "      <td>Beige</td>\n",
       "      <td>None reported</td>\n",
       "      <td>Yes</td>\n",
       "      <td>15000</td>\n",
       "    </tr>\n",
       "    <tr>\n",
       "      <th>3</th>\n",
       "      <td>3</td>\n",
       "      <td>BMW</td>\n",
       "      <td>X7 xDrive40i</td>\n",
       "      <td>2022</td>\n",
       "      <td>2437</td>\n",
       "      <td>Hybrid</td>\n",
       "      <td>335.0HP 3.0L Straight 6 Cylinder Engine Gasoli...</td>\n",
       "      <td>Transmission w/Dual Shift Mode</td>\n",
       "      <td>Gray</td>\n",
       "      <td>Brown</td>\n",
       "      <td>None reported</td>\n",
       "      <td>Yes</td>\n",
       "      <td>63500</td>\n",
       "    </tr>\n",
       "    <tr>\n",
       "      <th>4</th>\n",
       "      <td>4</td>\n",
       "      <td>Pontiac</td>\n",
       "      <td>Firebird Base</td>\n",
       "      <td>2001</td>\n",
       "      <td>111000</td>\n",
       "      <td>Gasoline</td>\n",
       "      <td>200.0HP 3.8L V6 Cylinder Engine Gasoline Fuel</td>\n",
       "      <td>A/T</td>\n",
       "      <td>White</td>\n",
       "      <td>Black</td>\n",
       "      <td>None reported</td>\n",
       "      <td>Yes</td>\n",
       "      <td>7850</td>\n",
       "    </tr>\n",
       "  </tbody>\n",
       "</table>\n",
       "</div>"
      ],
      "text/plain": [
       "   id    brand          model  model_year  milage fuel_type  \\\n",
       "0   0     Ford   F-150 Lariat        2018   74349  Gasoline   \n",
       "1   1      BMW          335 i        2007   80000  Gasoline   \n",
       "2   2   Jaguar      XF Luxury        2009   91491  Gasoline   \n",
       "3   3      BMW   X7 xDrive40i        2022    2437    Hybrid   \n",
       "4   4  Pontiac  Firebird Base        2001  111000  Gasoline   \n",
       "\n",
       "                                              engine  \\\n",
       "0      375.0HP 3.5L V6 Cylinder Engine Gasoline Fuel   \n",
       "1  300.0HP 3.0L Straight 6 Cylinder Engine Gasoli...   \n",
       "2       300.0HP 4.2L 8 Cylinder Engine Gasoline Fuel   \n",
       "3  335.0HP 3.0L Straight 6 Cylinder Engine Gasoli...   \n",
       "4      200.0HP 3.8L V6 Cylinder Engine Gasoline Fuel   \n",
       "\n",
       "                     transmission ext_col int_col       accident clean_title  \\\n",
       "0                    10-Speed A/T    Blue    Gray  None reported         Yes   \n",
       "1                     6-Speed M/T   Black   Black  None reported         Yes   \n",
       "2                     6-Speed A/T  Purple   Beige  None reported         Yes   \n",
       "3  Transmission w/Dual Shift Mode    Gray   Brown  None reported         Yes   \n",
       "4                             A/T   White   Black  None reported         Yes   \n",
       "\n",
       "   price  \n",
       "0  11000  \n",
       "1   8250  \n",
       "2  15000  \n",
       "3  63500  \n",
       "4   7850  "
      ]
     },
     "execution_count": 13,
     "metadata": {},
     "output_type": "execute_result"
    }
   ],
   "source": [
    "df.head(5)"
   ]
  },
  {
   "cell_type": "code",
   "execution_count": 14,
   "id": "8f0c062e",
   "metadata": {},
   "outputs": [
    {
     "data": {
      "text/plain": [
       "array(['None reported', 'At least 1 accident or damage reported'],\n",
       "      dtype=object)"
      ]
     },
     "execution_count": 14,
     "metadata": {},
     "output_type": "execute_result"
    }
   ],
   "source": [
    "df['accident'].unique()"
   ]
  },
  {
   "cell_type": "code",
   "execution_count": 15,
   "id": "62d246e7",
   "metadata": {},
   "outputs": [
    {
     "data": {
      "text/plain": [
       "array(['Yes'], dtype=object)"
      ]
     },
     "execution_count": 15,
     "metadata": {},
     "output_type": "execute_result"
    }
   ],
   "source": [
    "df['clean_title'].unique()"
   ]
  },
  {
   "cell_type": "code",
   "execution_count": 16,
   "id": "459ba985",
   "metadata": {},
   "outputs": [],
   "source": [
    "pd.set_option('display.max_columns', None)"
   ]
  },
  {
   "cell_type": "code",
   "execution_count": 17,
   "id": "b7763e55",
   "metadata": {},
   "outputs": [],
   "source": [
    "df.drop('model',axis=1,inplace=True)"
   ]
  },
  {
   "cell_type": "code",
   "execution_count": 18,
   "id": "71a3faea",
   "metadata": {},
   "outputs": [
    {
     "data": {
      "text/html": [
       "<div>\n",
       "<style scoped>\n",
       "    .dataframe tbody tr th:only-of-type {\n",
       "        vertical-align: middle;\n",
       "    }\n",
       "\n",
       "    .dataframe tbody tr th {\n",
       "        vertical-align: top;\n",
       "    }\n",
       "\n",
       "    .dataframe thead th {\n",
       "        text-align: right;\n",
       "    }\n",
       "</style>\n",
       "<table border=\"1\" class=\"dataframe\">\n",
       "  <thead>\n",
       "    <tr style=\"text-align: right;\">\n",
       "      <th></th>\n",
       "      <th>id</th>\n",
       "      <th>brand</th>\n",
       "      <th>model_year</th>\n",
       "      <th>milage</th>\n",
       "      <th>fuel_type</th>\n",
       "      <th>engine</th>\n",
       "      <th>transmission</th>\n",
       "      <th>ext_col</th>\n",
       "      <th>int_col</th>\n",
       "      <th>accident</th>\n",
       "      <th>clean_title</th>\n",
       "      <th>price</th>\n",
       "    </tr>\n",
       "  </thead>\n",
       "  <tbody>\n",
       "    <tr>\n",
       "      <th>0</th>\n",
       "      <td>0</td>\n",
       "      <td>Ford</td>\n",
       "      <td>2018</td>\n",
       "      <td>74349</td>\n",
       "      <td>Gasoline</td>\n",
       "      <td>375.0HP 3.5L V6 Cylinder Engine Gasoline Fuel</td>\n",
       "      <td>10-Speed A/T</td>\n",
       "      <td>Blue</td>\n",
       "      <td>Gray</td>\n",
       "      <td>None reported</td>\n",
       "      <td>Yes</td>\n",
       "      <td>11000</td>\n",
       "    </tr>\n",
       "    <tr>\n",
       "      <th>1</th>\n",
       "      <td>1</td>\n",
       "      <td>BMW</td>\n",
       "      <td>2007</td>\n",
       "      <td>80000</td>\n",
       "      <td>Gasoline</td>\n",
       "      <td>300.0HP 3.0L Straight 6 Cylinder Engine Gasoli...</td>\n",
       "      <td>6-Speed M/T</td>\n",
       "      <td>Black</td>\n",
       "      <td>Black</td>\n",
       "      <td>None reported</td>\n",
       "      <td>Yes</td>\n",
       "      <td>8250</td>\n",
       "    </tr>\n",
       "    <tr>\n",
       "      <th>2</th>\n",
       "      <td>2</td>\n",
       "      <td>Jaguar</td>\n",
       "      <td>2009</td>\n",
       "      <td>91491</td>\n",
       "      <td>Gasoline</td>\n",
       "      <td>300.0HP 4.2L 8 Cylinder Engine Gasoline Fuel</td>\n",
       "      <td>6-Speed A/T</td>\n",
       "      <td>Purple</td>\n",
       "      <td>Beige</td>\n",
       "      <td>None reported</td>\n",
       "      <td>Yes</td>\n",
       "      <td>15000</td>\n",
       "    </tr>\n",
       "    <tr>\n",
       "      <th>3</th>\n",
       "      <td>3</td>\n",
       "      <td>BMW</td>\n",
       "      <td>2022</td>\n",
       "      <td>2437</td>\n",
       "      <td>Hybrid</td>\n",
       "      <td>335.0HP 3.0L Straight 6 Cylinder Engine Gasoli...</td>\n",
       "      <td>Transmission w/Dual Shift Mode</td>\n",
       "      <td>Gray</td>\n",
       "      <td>Brown</td>\n",
       "      <td>None reported</td>\n",
       "      <td>Yes</td>\n",
       "      <td>63500</td>\n",
       "    </tr>\n",
       "    <tr>\n",
       "      <th>4</th>\n",
       "      <td>4</td>\n",
       "      <td>Pontiac</td>\n",
       "      <td>2001</td>\n",
       "      <td>111000</td>\n",
       "      <td>Gasoline</td>\n",
       "      <td>200.0HP 3.8L V6 Cylinder Engine Gasoline Fuel</td>\n",
       "      <td>A/T</td>\n",
       "      <td>White</td>\n",
       "      <td>Black</td>\n",
       "      <td>None reported</td>\n",
       "      <td>Yes</td>\n",
       "      <td>7850</td>\n",
       "    </tr>\n",
       "  </tbody>\n",
       "</table>\n",
       "</div>"
      ],
      "text/plain": [
       "   id    brand  model_year  milage fuel_type  \\\n",
       "0   0     Ford        2018   74349  Gasoline   \n",
       "1   1      BMW        2007   80000  Gasoline   \n",
       "2   2   Jaguar        2009   91491  Gasoline   \n",
       "3   3      BMW        2022    2437    Hybrid   \n",
       "4   4  Pontiac        2001  111000  Gasoline   \n",
       "\n",
       "                                              engine  \\\n",
       "0      375.0HP 3.5L V6 Cylinder Engine Gasoline Fuel   \n",
       "1  300.0HP 3.0L Straight 6 Cylinder Engine Gasoli...   \n",
       "2       300.0HP 4.2L 8 Cylinder Engine Gasoline Fuel   \n",
       "3  335.0HP 3.0L Straight 6 Cylinder Engine Gasoli...   \n",
       "4      200.0HP 3.8L V6 Cylinder Engine Gasoline Fuel   \n",
       "\n",
       "                     transmission ext_col int_col       accident clean_title  \\\n",
       "0                    10-Speed A/T    Blue    Gray  None reported         Yes   \n",
       "1                     6-Speed M/T   Black   Black  None reported         Yes   \n",
       "2                     6-Speed A/T  Purple   Beige  None reported         Yes   \n",
       "3  Transmission w/Dual Shift Mode    Gray   Brown  None reported         Yes   \n",
       "4                             A/T   White   Black  None reported         Yes   \n",
       "\n",
       "   price  \n",
       "0  11000  \n",
       "1   8250  \n",
       "2  15000  \n",
       "3  63500  \n",
       "4   7850  "
      ]
     },
     "execution_count": 18,
     "metadata": {},
     "output_type": "execute_result"
    }
   ],
   "source": [
    "df.head()"
   ]
  },
  {
   "cell_type": "code",
   "execution_count": 19,
   "id": "25de3da8",
   "metadata": {},
   "outputs": [
    {
     "data": {
      "text/plain": [
       "<bound method DataFrame.info of           id    brand  model_year  milage      fuel_type  \\\n",
       "0          0     Ford        2018   74349       Gasoline   \n",
       "1          1      BMW        2007   80000       Gasoline   \n",
       "2          2   Jaguar        2009   91491       Gasoline   \n",
       "3          3      BMW        2022    2437         Hybrid   \n",
       "4          4  Pontiac        2001  111000       Gasoline   \n",
       "...      ...      ...         ...     ...            ...   \n",
       "54268  54268      BMW        2017   29000       Gasoline   \n",
       "54269  54269     Audi        2015   94634  E85 Flex Fuel   \n",
       "54270  54270  Porsche        2013   40989       Gasoline   \n",
       "54271  54271  Porsche        2023    1518       Gasoline   \n",
       "54272  54272     Audi        2021   35000         Hybrid   \n",
       "\n",
       "                                                  engine  \\\n",
       "0          375.0HP 3.5L V6 Cylinder Engine Gasoline Fuel   \n",
       "1      300.0HP 3.0L Straight 6 Cylinder Engine Gasoli...   \n",
       "2           300.0HP 4.2L 8 Cylinder Engine Gasoline Fuel   \n",
       "3      335.0HP 3.0L Straight 6 Cylinder Engine Gasoli...   \n",
       "4          200.0HP 3.8L V6 Cylinder Engine Gasoline Fuel   \n",
       "...                                                  ...   \n",
       "54268       445.0HP 4.4L 8 Cylinder Engine Gasoline Fuel   \n",
       "54269  220.0HP 2.0L 4 Cylinder Engine Flex Fuel Capab...   \n",
       "54270      420.0HP 3.6L V6 Cylinder Engine Gasoline Fuel   \n",
       "54271                               4.0L H6 24V GDI DOHC   \n",
       "54272  261.0HP 2.0L 4 Cylinder Engine Gasoline/Mild E...   \n",
       "\n",
       "                            transmission ext_col int_col  \\\n",
       "0                           10-Speed A/T    Blue    Gray   \n",
       "1                            6-Speed M/T   Black   Black   \n",
       "2                            6-Speed A/T  Purple   Beige   \n",
       "3         Transmission w/Dual Shift Mode    Gray   Brown   \n",
       "4                                    A/T   White   Black   \n",
       "...                                  ...     ...     ...   \n",
       "54268                        8-Speed A/T   White   Brown   \n",
       "54269                        6-Speed A/T   Black   Black   \n",
       "54270     Transmission w/Dual Shift Mode   White   Black   \n",
       "54271  8-Speed Automatic with Auto-Shift   Beige   Brown   \n",
       "54272                        8-Speed A/T   Black   Black   \n",
       "\n",
       "                                     accident clean_title   price  \n",
       "0                               None reported         Yes   11000  \n",
       "1                               None reported         Yes    8250  \n",
       "2                               None reported         Yes   15000  \n",
       "3                               None reported         Yes   63500  \n",
       "4                               None reported         Yes    7850  \n",
       "...                                       ...         ...     ...  \n",
       "54268                           None reported         Yes   29000  \n",
       "54269  At least 1 accident or damage reported         Yes    6500  \n",
       "54270  At least 1 accident or damage reported         Yes   18950  \n",
       "54271                           None reported         Yes  194965  \n",
       "54272                           None reported         Yes   37499  \n",
       "\n",
       "[54273 rows x 12 columns]>"
      ]
     },
     "execution_count": 19,
     "metadata": {},
     "output_type": "execute_result"
    }
   ],
   "source": [
    "df.info"
   ]
  },
  {
   "cell_type": "code",
   "execution_count": 20,
   "id": "8180e25f",
   "metadata": {},
   "outputs": [
    {
     "data": {
      "text/plain": [
       "'Gasoline'"
      ]
     },
     "execution_count": 20,
     "metadata": {},
     "output_type": "execute_result"
    }
   ],
   "source": [
    "most_freq_val = df['fuel_type'].value_counts().idxmax()\n",
    "most_freq_val"
   ]
  },
  {
   "cell_type": "code",
   "execution_count": 21,
   "id": "60407e85",
   "metadata": {},
   "outputs": [
    {
     "data": {
      "text/plain": [
       "array(['Gasoline', 'Hybrid', 'E85 Flex Fuel', 'Diesel', '–',\n",
       "       'Plug-In Hybrid', 'not supported'], dtype=object)"
      ]
     },
     "execution_count": 21,
     "metadata": {},
     "output_type": "execute_result"
    }
   ],
   "source": [
    "df['fuel_type'].unique()"
   ]
  },
  {
   "cell_type": "code",
   "execution_count": 22,
   "id": "771922c5",
   "metadata": {},
   "outputs": [
    {
     "data": {
      "text/plain": [
       "fuel_type\n",
       "Gasoline          49439\n",
       "Hybrid             1766\n",
       "E85 Flex Fuel      1479\n",
       "Diesel             1109\n",
       "–                   294\n",
       "Plug-In Hybrid      182\n",
       "not supported         4\n",
       "Name: count, dtype: int64"
      ]
     },
     "execution_count": 22,
     "metadata": {},
     "output_type": "execute_result"
    }
   ],
   "source": [
    "df['fuel_type'].value_counts()"
   ]
  },
  {
   "cell_type": "code",
   "execution_count": 23,
   "id": "1afc2163",
   "metadata": {},
   "outputs": [],
   "source": [
    "df['fuel_type'].replace('–', 'Electric', inplace = True)"
   ]
  },
  {
   "cell_type": "code",
   "execution_count": 24,
   "id": "cfc606d8",
   "metadata": {},
   "outputs": [],
   "source": [
    "df['fuel_type'].replace('not supported', 'Electric', inplace = True)"
   ]
  },
  {
   "cell_type": "code",
   "execution_count": 25,
   "id": "eafd2dcb",
   "metadata": {},
   "outputs": [
    {
     "data": {
      "text/plain": [
       "fuel_type\n",
       "Gasoline          49439\n",
       "Hybrid             1766\n",
       "E85 Flex Fuel      1479\n",
       "Diesel             1109\n",
       "Electric            298\n",
       "Plug-In Hybrid      182\n",
       "Name: count, dtype: int64"
      ]
     },
     "execution_count": 25,
     "metadata": {},
     "output_type": "execute_result"
    }
   ],
   "source": [
    "df['fuel_type'].value_counts()"
   ]
  },
  {
   "cell_type": "code",
   "execution_count": 26,
   "id": "657a27fd",
   "metadata": {},
   "outputs": [],
   "source": [
    "df.drop(columns=['clean_title'],inplace = True)"
   ]
  },
  {
   "cell_type": "code",
   "execution_count": 27,
   "id": "dec808a0",
   "metadata": {},
   "outputs": [],
   "source": [
    "df.dropna(subset = ['accident'], axis = 0, inplace = True)"
   ]
  },
  {
   "cell_type": "code",
   "execution_count": 28,
   "id": "d48fb53a",
   "metadata": {},
   "outputs": [
    {
     "data": {
      "text/plain": [
       "(54273, 11)"
      ]
     },
     "execution_count": 28,
     "metadata": {},
     "output_type": "execute_result"
    }
   ],
   "source": [
    "df.shape"
   ]
  },
  {
   "cell_type": "code",
   "execution_count": 29,
   "id": "34634c81",
   "metadata": {},
   "outputs": [],
   "source": [
    "import re\n",
    "# Define a function to extract engine attributes\n",
    "def extract_engine_attributes(engine_str):\n",
    "    horsepower = re.search(r'(\\d+\\.\\d+)HP|\\d+\\.\\d+', engine_str)\n",
    "    displacement = re.search(r'(\\d+\\.\\d+L|\\d+\\.\\d+ Liter)', engine_str)\n",
    "    return horsepower.group(1) if horsepower else '',\\\n",
    "           displacement.group(1) if displacement else ''\n",
    "\n",
    "# Apply the function to create new columns\n",
    "df[['Horsepower', 'Engine_Displacement']] = df['engine'].apply(extract_engine_attributes).apply(pd.Series)"
   ]
  },
  {
   "cell_type": "code",
   "execution_count": 30,
   "id": "3a9ba96d",
   "metadata": {},
   "outputs": [
    {
     "data": {
      "text/html": [
       "<div>\n",
       "<style scoped>\n",
       "    .dataframe tbody tr th:only-of-type {\n",
       "        vertical-align: middle;\n",
       "    }\n",
       "\n",
       "    .dataframe tbody tr th {\n",
       "        vertical-align: top;\n",
       "    }\n",
       "\n",
       "    .dataframe thead th {\n",
       "        text-align: right;\n",
       "    }\n",
       "</style>\n",
       "<table border=\"1\" class=\"dataframe\">\n",
       "  <thead>\n",
       "    <tr style=\"text-align: right;\">\n",
       "      <th></th>\n",
       "      <th>id</th>\n",
       "      <th>brand</th>\n",
       "      <th>model_year</th>\n",
       "      <th>milage</th>\n",
       "      <th>fuel_type</th>\n",
       "      <th>engine</th>\n",
       "      <th>transmission</th>\n",
       "      <th>ext_col</th>\n",
       "      <th>int_col</th>\n",
       "      <th>accident</th>\n",
       "      <th>price</th>\n",
       "      <th>Horsepower</th>\n",
       "      <th>Engine_Displacement</th>\n",
       "    </tr>\n",
       "  </thead>\n",
       "  <tbody>\n",
       "    <tr>\n",
       "      <th>0</th>\n",
       "      <td>0</td>\n",
       "      <td>Ford</td>\n",
       "      <td>2018</td>\n",
       "      <td>74349</td>\n",
       "      <td>Gasoline</td>\n",
       "      <td>375.0HP 3.5L V6 Cylinder Engine Gasoline Fuel</td>\n",
       "      <td>10-Speed A/T</td>\n",
       "      <td>Blue</td>\n",
       "      <td>Gray</td>\n",
       "      <td>None reported</td>\n",
       "      <td>11000</td>\n",
       "      <td>375.0</td>\n",
       "      <td>3.5L</td>\n",
       "    </tr>\n",
       "    <tr>\n",
       "      <th>1</th>\n",
       "      <td>1</td>\n",
       "      <td>BMW</td>\n",
       "      <td>2007</td>\n",
       "      <td>80000</td>\n",
       "      <td>Gasoline</td>\n",
       "      <td>300.0HP 3.0L Straight 6 Cylinder Engine Gasoli...</td>\n",
       "      <td>6-Speed M/T</td>\n",
       "      <td>Black</td>\n",
       "      <td>Black</td>\n",
       "      <td>None reported</td>\n",
       "      <td>8250</td>\n",
       "      <td>300.0</td>\n",
       "      <td>3.0L</td>\n",
       "    </tr>\n",
       "    <tr>\n",
       "      <th>2</th>\n",
       "      <td>2</td>\n",
       "      <td>Jaguar</td>\n",
       "      <td>2009</td>\n",
       "      <td>91491</td>\n",
       "      <td>Gasoline</td>\n",
       "      <td>300.0HP 4.2L 8 Cylinder Engine Gasoline Fuel</td>\n",
       "      <td>6-Speed A/T</td>\n",
       "      <td>Purple</td>\n",
       "      <td>Beige</td>\n",
       "      <td>None reported</td>\n",
       "      <td>15000</td>\n",
       "      <td>300.0</td>\n",
       "      <td>4.2L</td>\n",
       "    </tr>\n",
       "    <tr>\n",
       "      <th>3</th>\n",
       "      <td>3</td>\n",
       "      <td>BMW</td>\n",
       "      <td>2022</td>\n",
       "      <td>2437</td>\n",
       "      <td>Hybrid</td>\n",
       "      <td>335.0HP 3.0L Straight 6 Cylinder Engine Gasoli...</td>\n",
       "      <td>Transmission w/Dual Shift Mode</td>\n",
       "      <td>Gray</td>\n",
       "      <td>Brown</td>\n",
       "      <td>None reported</td>\n",
       "      <td>63500</td>\n",
       "      <td>335.0</td>\n",
       "      <td>3.0L</td>\n",
       "    </tr>\n",
       "    <tr>\n",
       "      <th>4</th>\n",
       "      <td>4</td>\n",
       "      <td>Pontiac</td>\n",
       "      <td>2001</td>\n",
       "      <td>111000</td>\n",
       "      <td>Gasoline</td>\n",
       "      <td>200.0HP 3.8L V6 Cylinder Engine Gasoline Fuel</td>\n",
       "      <td>A/T</td>\n",
       "      <td>White</td>\n",
       "      <td>Black</td>\n",
       "      <td>None reported</td>\n",
       "      <td>7850</td>\n",
       "      <td>200.0</td>\n",
       "      <td>3.8L</td>\n",
       "    </tr>\n",
       "  </tbody>\n",
       "</table>\n",
       "</div>"
      ],
      "text/plain": [
       "   id    brand  model_year  milage fuel_type  \\\n",
       "0   0     Ford        2018   74349  Gasoline   \n",
       "1   1      BMW        2007   80000  Gasoline   \n",
       "2   2   Jaguar        2009   91491  Gasoline   \n",
       "3   3      BMW        2022    2437    Hybrid   \n",
       "4   4  Pontiac        2001  111000  Gasoline   \n",
       "\n",
       "                                              engine  \\\n",
       "0      375.0HP 3.5L V6 Cylinder Engine Gasoline Fuel   \n",
       "1  300.0HP 3.0L Straight 6 Cylinder Engine Gasoli...   \n",
       "2       300.0HP 4.2L 8 Cylinder Engine Gasoline Fuel   \n",
       "3  335.0HP 3.0L Straight 6 Cylinder Engine Gasoli...   \n",
       "4      200.0HP 3.8L V6 Cylinder Engine Gasoline Fuel   \n",
       "\n",
       "                     transmission ext_col int_col       accident  price  \\\n",
       "0                    10-Speed A/T    Blue    Gray  None reported  11000   \n",
       "1                     6-Speed M/T   Black   Black  None reported   8250   \n",
       "2                     6-Speed A/T  Purple   Beige  None reported  15000   \n",
       "3  Transmission w/Dual Shift Mode    Gray   Brown  None reported  63500   \n",
       "4                             A/T   White   Black  None reported   7850   \n",
       "\n",
       "  Horsepower Engine_Displacement  \n",
       "0      375.0                3.5L  \n",
       "1      300.0                3.0L  \n",
       "2      300.0                4.2L  \n",
       "3      335.0                3.0L  \n",
       "4      200.0                3.8L  "
      ]
     },
     "execution_count": 30,
     "metadata": {},
     "output_type": "execute_result"
    }
   ],
   "source": [
    "df.head()"
   ]
  },
  {
   "cell_type": "code",
   "execution_count": 31,
   "id": "82eee722",
   "metadata": {},
   "outputs": [
    {
     "data": {
      "text/plain": [
       "3684"
      ]
     },
     "execution_count": 31,
     "metadata": {},
     "output_type": "execute_result"
    }
   ],
   "source": [
    "df['Horsepower'].isnull().sum()"
   ]
  },
  {
   "cell_type": "code",
   "execution_count": 32,
   "id": "8dc65a97",
   "metadata": {},
   "outputs": [
    {
     "data": {
      "text/plain": [
       "dtype('O')"
      ]
     },
     "execution_count": 32,
     "metadata": {},
     "output_type": "execute_result"
    }
   ],
   "source": [
    "df['Horsepower'].dtypes"
   ]
  },
  {
   "cell_type": "code",
   "execution_count": 33,
   "id": "86dafe2a",
   "metadata": {},
   "outputs": [
    {
     "data": {
      "text/plain": [
       "dtype('float64')"
      ]
     },
     "execution_count": 33,
     "metadata": {},
     "output_type": "execute_result"
    }
   ],
   "source": [
    "df['Horsepower'] = pd.to_numeric(df['Horsepower'],errors = 'coerce')\n",
    "df['Horsepower'].dtype"
   ]
  },
  {
   "cell_type": "code",
   "execution_count": 34,
   "id": "a7c262bd",
   "metadata": {},
   "outputs": [
    {
     "data": {
      "text/plain": [
       "0"
      ]
     },
     "execution_count": 34,
     "metadata": {},
     "output_type": "execute_result"
    }
   ],
   "source": [
    "df['Horsepower'].fillna(df['Horsepower'].mean(),inplace=True)\n",
    "df['Horsepower'].isnull().sum()"
   ]
  },
  {
   "cell_type": "code",
   "execution_count": 35,
   "id": "c503a162",
   "metadata": {},
   "outputs": [
    {
     "data": {
      "text/plain": [
       "0"
      ]
     },
     "execution_count": 35,
     "metadata": {},
     "output_type": "execute_result"
    }
   ],
   "source": [
    "df['Engine_Displacement'].isnull().sum()"
   ]
  },
  {
   "cell_type": "code",
   "execution_count": 36,
   "id": "da708b94",
   "metadata": {},
   "outputs": [],
   "source": [
    "df['Engine_Displacement']=df['Engine_Displacement'].str.replace('L','')"
   ]
  },
  {
   "cell_type": "code",
   "execution_count": 37,
   "id": "53754766",
   "metadata": {},
   "outputs": [],
   "source": [
    "df['Engine_Displacement']=pd.to_numeric(df['Engine_Displacement'],errors='coerce')"
   ]
  },
  {
   "cell_type": "code",
   "execution_count": 38,
   "id": "792d32a4",
   "metadata": {},
   "outputs": [
    {
     "data": {
      "text/plain": [
       "0"
      ]
     },
     "execution_count": 38,
     "metadata": {},
     "output_type": "execute_result"
    }
   ],
   "source": [
    "df['Engine_Displacement'].fillna(df['Engine_Displacement'].mean(), inplace = True)\n",
    "df['Engine_Displacement'].isnull().sum()"
   ]
  },
  {
   "cell_type": "code",
   "execution_count": 39,
   "id": "c02ce916",
   "metadata": {},
   "outputs": [
    {
     "data": {
      "text/html": [
       "<div>\n",
       "<style scoped>\n",
       "    .dataframe tbody tr th:only-of-type {\n",
       "        vertical-align: middle;\n",
       "    }\n",
       "\n",
       "    .dataframe tbody tr th {\n",
       "        vertical-align: top;\n",
       "    }\n",
       "\n",
       "    .dataframe thead th {\n",
       "        text-align: right;\n",
       "    }\n",
       "</style>\n",
       "<table border=\"1\" class=\"dataframe\">\n",
       "  <thead>\n",
       "    <tr style=\"text-align: right;\">\n",
       "      <th></th>\n",
       "      <th>id</th>\n",
       "      <th>brand</th>\n",
       "      <th>model_year</th>\n",
       "      <th>milage</th>\n",
       "      <th>fuel_type</th>\n",
       "      <th>engine</th>\n",
       "      <th>transmission</th>\n",
       "      <th>ext_col</th>\n",
       "      <th>int_col</th>\n",
       "      <th>accident</th>\n",
       "      <th>price</th>\n",
       "      <th>Horsepower</th>\n",
       "      <th>Engine_Displacement</th>\n",
       "    </tr>\n",
       "  </thead>\n",
       "  <tbody>\n",
       "    <tr>\n",
       "      <th>0</th>\n",
       "      <td>0</td>\n",
       "      <td>Ford</td>\n",
       "      <td>2018</td>\n",
       "      <td>74349</td>\n",
       "      <td>Gasoline</td>\n",
       "      <td>375.0HP 3.5L V6 Cylinder Engine Gasoline Fuel</td>\n",
       "      <td>10-Speed A/T</td>\n",
       "      <td>Blue</td>\n",
       "      <td>Gray</td>\n",
       "      <td>None reported</td>\n",
       "      <td>11000</td>\n",
       "      <td>375.0</td>\n",
       "      <td>3.5</td>\n",
       "    </tr>\n",
       "    <tr>\n",
       "      <th>1</th>\n",
       "      <td>1</td>\n",
       "      <td>BMW</td>\n",
       "      <td>2007</td>\n",
       "      <td>80000</td>\n",
       "      <td>Gasoline</td>\n",
       "      <td>300.0HP 3.0L Straight 6 Cylinder Engine Gasoli...</td>\n",
       "      <td>6-Speed M/T</td>\n",
       "      <td>Black</td>\n",
       "      <td>Black</td>\n",
       "      <td>None reported</td>\n",
       "      <td>8250</td>\n",
       "      <td>300.0</td>\n",
       "      <td>3.0</td>\n",
       "    </tr>\n",
       "    <tr>\n",
       "      <th>2</th>\n",
       "      <td>2</td>\n",
       "      <td>Jaguar</td>\n",
       "      <td>2009</td>\n",
       "      <td>91491</td>\n",
       "      <td>Gasoline</td>\n",
       "      <td>300.0HP 4.2L 8 Cylinder Engine Gasoline Fuel</td>\n",
       "      <td>6-Speed A/T</td>\n",
       "      <td>Purple</td>\n",
       "      <td>Beige</td>\n",
       "      <td>None reported</td>\n",
       "      <td>15000</td>\n",
       "      <td>300.0</td>\n",
       "      <td>4.2</td>\n",
       "    </tr>\n",
       "    <tr>\n",
       "      <th>3</th>\n",
       "      <td>3</td>\n",
       "      <td>BMW</td>\n",
       "      <td>2022</td>\n",
       "      <td>2437</td>\n",
       "      <td>Hybrid</td>\n",
       "      <td>335.0HP 3.0L Straight 6 Cylinder Engine Gasoli...</td>\n",
       "      <td>Transmission w/Dual Shift Mode</td>\n",
       "      <td>Gray</td>\n",
       "      <td>Brown</td>\n",
       "      <td>None reported</td>\n",
       "      <td>63500</td>\n",
       "      <td>335.0</td>\n",
       "      <td>3.0</td>\n",
       "    </tr>\n",
       "    <tr>\n",
       "      <th>4</th>\n",
       "      <td>4</td>\n",
       "      <td>Pontiac</td>\n",
       "      <td>2001</td>\n",
       "      <td>111000</td>\n",
       "      <td>Gasoline</td>\n",
       "      <td>200.0HP 3.8L V6 Cylinder Engine Gasoline Fuel</td>\n",
       "      <td>A/T</td>\n",
       "      <td>White</td>\n",
       "      <td>Black</td>\n",
       "      <td>None reported</td>\n",
       "      <td>7850</td>\n",
       "      <td>200.0</td>\n",
       "      <td>3.8</td>\n",
       "    </tr>\n",
       "  </tbody>\n",
       "</table>\n",
       "</div>"
      ],
      "text/plain": [
       "   id    brand  model_year  milage fuel_type  \\\n",
       "0   0     Ford        2018   74349  Gasoline   \n",
       "1   1      BMW        2007   80000  Gasoline   \n",
       "2   2   Jaguar        2009   91491  Gasoline   \n",
       "3   3      BMW        2022    2437    Hybrid   \n",
       "4   4  Pontiac        2001  111000  Gasoline   \n",
       "\n",
       "                                              engine  \\\n",
       "0      375.0HP 3.5L V6 Cylinder Engine Gasoline Fuel   \n",
       "1  300.0HP 3.0L Straight 6 Cylinder Engine Gasoli...   \n",
       "2       300.0HP 4.2L 8 Cylinder Engine Gasoline Fuel   \n",
       "3  335.0HP 3.0L Straight 6 Cylinder Engine Gasoli...   \n",
       "4      200.0HP 3.8L V6 Cylinder Engine Gasoline Fuel   \n",
       "\n",
       "                     transmission ext_col int_col       accident  price  \\\n",
       "0                    10-Speed A/T    Blue    Gray  None reported  11000   \n",
       "1                     6-Speed M/T   Black   Black  None reported   8250   \n",
       "2                     6-Speed A/T  Purple   Beige  None reported  15000   \n",
       "3  Transmission w/Dual Shift Mode    Gray   Brown  None reported  63500   \n",
       "4                             A/T   White   Black  None reported   7850   \n",
       "\n",
       "   Horsepower  Engine_Displacement  \n",
       "0       375.0                  3.5  \n",
       "1       300.0                  3.0  \n",
       "2       300.0                  4.2  \n",
       "3       335.0                  3.0  \n",
       "4       200.0                  3.8  "
      ]
     },
     "execution_count": 39,
     "metadata": {},
     "output_type": "execute_result"
    }
   ],
   "source": [
    "df.head()"
   ]
  },
  {
   "cell_type": "code",
   "execution_count": 40,
   "id": "7a17b9a5",
   "metadata": {},
   "outputs": [],
   "source": [
    "df.drop('engine', axis = 1, inplace = True)"
   ]
  },
  {
   "cell_type": "code",
   "execution_count": 41,
   "id": "1dca34a7",
   "metadata": {},
   "outputs": [],
   "source": [
    "df['age'] = 2024 - df['model_year']"
   ]
  },
  {
   "cell_type": "code",
   "execution_count": 42,
   "id": "cb622dff",
   "metadata": {},
   "outputs": [],
   "source": [
    "df.drop('model_year', axis = 1, inplace = True)"
   ]
  },
  {
   "cell_type": "code",
   "execution_count": 43,
   "id": "6ee66cc2",
   "metadata": {},
   "outputs": [
    {
     "data": {
      "text/html": [
       "<div>\n",
       "<style scoped>\n",
       "    .dataframe tbody tr th:only-of-type {\n",
       "        vertical-align: middle;\n",
       "    }\n",
       "\n",
       "    .dataframe tbody tr th {\n",
       "        vertical-align: top;\n",
       "    }\n",
       "\n",
       "    .dataframe thead th {\n",
       "        text-align: right;\n",
       "    }\n",
       "</style>\n",
       "<table border=\"1\" class=\"dataframe\">\n",
       "  <thead>\n",
       "    <tr style=\"text-align: right;\">\n",
       "      <th></th>\n",
       "      <th>id</th>\n",
       "      <th>brand</th>\n",
       "      <th>milage</th>\n",
       "      <th>fuel_type</th>\n",
       "      <th>transmission</th>\n",
       "      <th>ext_col</th>\n",
       "      <th>int_col</th>\n",
       "      <th>accident</th>\n",
       "      <th>price</th>\n",
       "      <th>Horsepower</th>\n",
       "      <th>Engine_Displacement</th>\n",
       "      <th>age</th>\n",
       "    </tr>\n",
       "  </thead>\n",
       "  <tbody>\n",
       "    <tr>\n",
       "      <th>0</th>\n",
       "      <td>0</td>\n",
       "      <td>Ford</td>\n",
       "      <td>74349</td>\n",
       "      <td>Gasoline</td>\n",
       "      <td>10-Speed A/T</td>\n",
       "      <td>Blue</td>\n",
       "      <td>Gray</td>\n",
       "      <td>None reported</td>\n",
       "      <td>11000</td>\n",
       "      <td>375.0</td>\n",
       "      <td>3.5</td>\n",
       "      <td>6</td>\n",
       "    </tr>\n",
       "    <tr>\n",
       "      <th>1</th>\n",
       "      <td>1</td>\n",
       "      <td>BMW</td>\n",
       "      <td>80000</td>\n",
       "      <td>Gasoline</td>\n",
       "      <td>6-Speed M/T</td>\n",
       "      <td>Black</td>\n",
       "      <td>Black</td>\n",
       "      <td>None reported</td>\n",
       "      <td>8250</td>\n",
       "      <td>300.0</td>\n",
       "      <td>3.0</td>\n",
       "      <td>17</td>\n",
       "    </tr>\n",
       "    <tr>\n",
       "      <th>2</th>\n",
       "      <td>2</td>\n",
       "      <td>Jaguar</td>\n",
       "      <td>91491</td>\n",
       "      <td>Gasoline</td>\n",
       "      <td>6-Speed A/T</td>\n",
       "      <td>Purple</td>\n",
       "      <td>Beige</td>\n",
       "      <td>None reported</td>\n",
       "      <td>15000</td>\n",
       "      <td>300.0</td>\n",
       "      <td>4.2</td>\n",
       "      <td>15</td>\n",
       "    </tr>\n",
       "    <tr>\n",
       "      <th>3</th>\n",
       "      <td>3</td>\n",
       "      <td>BMW</td>\n",
       "      <td>2437</td>\n",
       "      <td>Hybrid</td>\n",
       "      <td>Transmission w/Dual Shift Mode</td>\n",
       "      <td>Gray</td>\n",
       "      <td>Brown</td>\n",
       "      <td>None reported</td>\n",
       "      <td>63500</td>\n",
       "      <td>335.0</td>\n",
       "      <td>3.0</td>\n",
       "      <td>2</td>\n",
       "    </tr>\n",
       "  </tbody>\n",
       "</table>\n",
       "</div>"
      ],
      "text/plain": [
       "   id   brand  milage fuel_type                    transmission ext_col  \\\n",
       "0   0    Ford   74349  Gasoline                    10-Speed A/T    Blue   \n",
       "1   1     BMW   80000  Gasoline                     6-Speed M/T   Black   \n",
       "2   2  Jaguar   91491  Gasoline                     6-Speed A/T  Purple   \n",
       "3   3     BMW    2437    Hybrid  Transmission w/Dual Shift Mode    Gray   \n",
       "\n",
       "  int_col       accident  price  Horsepower  Engine_Displacement  age  \n",
       "0    Gray  None reported  11000       375.0                  3.5    6  \n",
       "1   Black  None reported   8250       300.0                  3.0   17  \n",
       "2   Beige  None reported  15000       300.0                  4.2   15  \n",
       "3   Brown  None reported  63500       335.0                  3.0    2  "
      ]
     },
     "execution_count": 43,
     "metadata": {},
     "output_type": "execute_result"
    }
   ],
   "source": [
    "df.head(4)"
   ]
  },
  {
   "cell_type": "code",
   "execution_count": 44,
   "id": "67bd99c0",
   "metadata": {},
   "outputs": [],
   "source": [
    "# eda"
   ]
  },
  {
   "cell_type": "code",
   "execution_count": 45,
   "id": "ccea80fb",
   "metadata": {},
   "outputs": [
    {
     "data": {
      "text/html": [
       "<div>\n",
       "<style scoped>\n",
       "    .dataframe tbody tr th:only-of-type {\n",
       "        vertical-align: middle;\n",
       "    }\n",
       "\n",
       "    .dataframe tbody tr th {\n",
       "        vertical-align: top;\n",
       "    }\n",
       "\n",
       "    .dataframe thead th {\n",
       "        text-align: right;\n",
       "    }\n",
       "</style>\n",
       "<table border=\"1\" class=\"dataframe\">\n",
       "  <thead>\n",
       "    <tr style=\"text-align: right;\">\n",
       "      <th></th>\n",
       "      <th>id</th>\n",
       "      <th>brand</th>\n",
       "      <th>milage</th>\n",
       "      <th>fuel_type</th>\n",
       "      <th>transmission</th>\n",
       "      <th>ext_col</th>\n",
       "      <th>int_col</th>\n",
       "      <th>accident</th>\n",
       "      <th>price</th>\n",
       "      <th>Horsepower</th>\n",
       "      <th>Engine_Displacement</th>\n",
       "      <th>age</th>\n",
       "    </tr>\n",
       "  </thead>\n",
       "  <tbody>\n",
       "    <tr>\n",
       "      <th>0</th>\n",
       "      <td>0</td>\n",
       "      <td>Ford</td>\n",
       "      <td>74349</td>\n",
       "      <td>Gasoline</td>\n",
       "      <td>10-Speed A/T</td>\n",
       "      <td>Blue</td>\n",
       "      <td>Gray</td>\n",
       "      <td>None reported</td>\n",
       "      <td>11000</td>\n",
       "      <td>375.0</td>\n",
       "      <td>3.5</td>\n",
       "      <td>6</td>\n",
       "    </tr>\n",
       "    <tr>\n",
       "      <th>1</th>\n",
       "      <td>1</td>\n",
       "      <td>BMW</td>\n",
       "      <td>80000</td>\n",
       "      <td>Gasoline</td>\n",
       "      <td>6-Speed M/T</td>\n",
       "      <td>Black</td>\n",
       "      <td>Black</td>\n",
       "      <td>None reported</td>\n",
       "      <td>8250</td>\n",
       "      <td>300.0</td>\n",
       "      <td>3.0</td>\n",
       "      <td>17</td>\n",
       "    </tr>\n",
       "    <tr>\n",
       "      <th>2</th>\n",
       "      <td>2</td>\n",
       "      <td>Jaguar</td>\n",
       "      <td>91491</td>\n",
       "      <td>Gasoline</td>\n",
       "      <td>6-Speed A/T</td>\n",
       "      <td>Purple</td>\n",
       "      <td>Beige</td>\n",
       "      <td>None reported</td>\n",
       "      <td>15000</td>\n",
       "      <td>300.0</td>\n",
       "      <td>4.2</td>\n",
       "      <td>15</td>\n",
       "    </tr>\n",
       "    <tr>\n",
       "      <th>3</th>\n",
       "      <td>3</td>\n",
       "      <td>BMW</td>\n",
       "      <td>2437</td>\n",
       "      <td>Hybrid</td>\n",
       "      <td>Transmission w/Dual Shift Mode</td>\n",
       "      <td>Gray</td>\n",
       "      <td>Brown</td>\n",
       "      <td>None reported</td>\n",
       "      <td>63500</td>\n",
       "      <td>335.0</td>\n",
       "      <td>3.0</td>\n",
       "      <td>2</td>\n",
       "    </tr>\n",
       "    <tr>\n",
       "      <th>4</th>\n",
       "      <td>4</td>\n",
       "      <td>Pontiac</td>\n",
       "      <td>111000</td>\n",
       "      <td>Gasoline</td>\n",
       "      <td>A/T</td>\n",
       "      <td>White</td>\n",
       "      <td>Black</td>\n",
       "      <td>None reported</td>\n",
       "      <td>7850</td>\n",
       "      <td>200.0</td>\n",
       "      <td>3.8</td>\n",
       "      <td>23</td>\n",
       "    </tr>\n",
       "  </tbody>\n",
       "</table>\n",
       "</div>"
      ],
      "text/plain": [
       "   id    brand  milage fuel_type                    transmission ext_col  \\\n",
       "0   0     Ford   74349  Gasoline                    10-Speed A/T    Blue   \n",
       "1   1      BMW   80000  Gasoline                     6-Speed M/T   Black   \n",
       "2   2   Jaguar   91491  Gasoline                     6-Speed A/T  Purple   \n",
       "3   3      BMW    2437    Hybrid  Transmission w/Dual Shift Mode    Gray   \n",
       "4   4  Pontiac  111000  Gasoline                             A/T   White   \n",
       "\n",
       "  int_col       accident  price  Horsepower  Engine_Displacement  age  \n",
       "0    Gray  None reported  11000       375.0                  3.5    6  \n",
       "1   Black  None reported   8250       300.0                  3.0   17  \n",
       "2   Beige  None reported  15000       300.0                  4.2   15  \n",
       "3   Brown  None reported  63500       335.0                  3.0    2  \n",
       "4   Black  None reported   7850       200.0                  3.8   23  "
      ]
     },
     "execution_count": 45,
     "metadata": {},
     "output_type": "execute_result"
    }
   ],
   "source": [
    "df.head()"
   ]
  },
  {
   "cell_type": "code",
   "execution_count": 46,
   "id": "b63a1524",
   "metadata": {},
   "outputs": [],
   "source": [
    "# EDA"
   ]
  },
  {
   "cell_type": "code",
   "execution_count": null,
   "id": "e32cc28d",
   "metadata": {},
   "outputs": [],
   "source": []
  },
  {
   "cell_type": "code",
   "execution_count": 47,
   "id": "8f36addf",
   "metadata": {},
   "outputs": [
    {
     "name": "stdout",
     "output_type": "stream",
     "text": [
      "29500.0\n"
     ]
    }
   ],
   "source": [
    "Q1 = df['price'].quantile(0.25)\n",
    "Q3 = df['price'].quantile(0.75)\n",
    "IQR = Q3 - Q1\n",
    "print(IQR)"
   ]
  },
  {
   "cell_type": "code",
   "execution_count": 48,
   "id": "70fcb7e3",
   "metadata": {},
   "outputs": [
    {
     "data": {
      "text/plain": [
       "(47678, 12)"
      ]
     },
     "execution_count": 48,
     "metadata": {},
     "output_type": "execute_result"
    }
   ],
   "source": [
    "#use IQR value to filter out the outliers\n",
    "df = df[~((df['price'] < (Q1 - 1.5 * IQR)) |(df['price'] > (Q3 + 0.7 * IQR)))]\n",
    "df.shape"
   ]
  },
  {
   "cell_type": "code",
   "execution_count": 49,
   "id": "59a1ef35",
   "metadata": {},
   "outputs": [
    {
     "name": "stdout",
     "output_type": "stream",
     "text": [
      "    Quartile  Count\n",
      "0   Q3 (75%)  12028\n",
      "1   Q2 (50%)  11978\n",
      "2  Q4 (100%)  11920\n",
      "3   Q1 (25%)  11752\n"
     ]
    },
    {
     "name": "stderr",
     "output_type": "stream",
     "text": [
      "C:\\Users\\Lakshmi\\AppData\\Local\\Temp\\ipykernel_25100\\16075843.py:20: SettingWithCopyWarning: \n",
      "A value is trying to be set on a copy of a slice from a DataFrame.\n",
      "Try using .loc[row_indexer,col_indexer] = value instead\n",
      "\n",
      "See the caveats in the documentation: https://pandas.pydata.org/pandas-docs/stable/user_guide/indexing.html#returning-a-view-versus-a-copy\n",
      "  df['Quartile'] = df['price'].apply(categorize_quartile)\n"
     ]
    }
   ],
   "source": [
    "import pandas as pd\n",
    "\n",
    "# Calculate quartiles\n",
    "Q1 = df['price'].quantile(0.25)\n",
    "Q2 = df['price'].median()\n",
    "Q3 = df['price'].quantile(0.75)\n",
    "\n",
    "# Define a function to categorize data points into quartiles\n",
    "def categorize_quartile(value):\n",
    "    if value < Q1:\n",
    "        return \"Q1 (25%)\"\n",
    "    elif value < Q2:\n",
    "        return \"Q2 (50%)\"\n",
    "    elif value < Q3:\n",
    "        return \"Q3 (75%)\"\n",
    "    else:\n",
    "        return \"Q4 (100%)\"\n",
    "\n",
    "# Apply the categorize_quartile function to the 'price' column\n",
    "df['Quartile'] = df['price'].apply(categorize_quartile)\n",
    "# Count the number of data points in each quartile\n",
    "quartile_counts = df['Quartile'].value_counts().reset_index()\n",
    "quartile_counts.columns = ['Quartile', 'Count']\n",
    "\n",
    "# Display the quartile distribution table\n",
    "print(quartile_counts)"
   ]
  },
  {
   "cell_type": "code",
   "execution_count": 51,
   "id": "42019a83",
   "metadata": {},
   "outputs": [
    {
     "name": "stderr",
     "output_type": "stream",
     "text": [
      "C:\\Users\\Lakshmi\\AppData\\Local\\Temp\\ipykernel_25100\\643887207.py:1: SettingWithCopyWarning: \n",
      "A value is trying to be set on a copy of a slice from a DataFrame\n",
      "\n",
      "See the caveats in the documentation: https://pandas.pydata.org/pandas-docs/stable/user_guide/indexing.html#returning-a-view-versus-a-copy\n",
      "  df.drop(['accident', 'Quartile'], axis = 1, inplace = True)\n"
     ]
    }
   ],
   "source": [
    "df.drop(['accident', 'Quartile'], axis = 1, inplace = True)\n"
   ]
  },
  {
   "cell_type": "code",
   "execution_count": 52,
   "id": "2321e5db",
   "metadata": {},
   "outputs": [
    {
     "data": {
      "text/html": [
       "<div>\n",
       "<style scoped>\n",
       "    .dataframe tbody tr th:only-of-type {\n",
       "        vertical-align: middle;\n",
       "    }\n",
       "\n",
       "    .dataframe tbody tr th {\n",
       "        vertical-align: top;\n",
       "    }\n",
       "\n",
       "    .dataframe thead th {\n",
       "        text-align: right;\n",
       "    }\n",
       "</style>\n",
       "<table border=\"1\" class=\"dataframe\">\n",
       "  <thead>\n",
       "    <tr style=\"text-align: right;\">\n",
       "      <th></th>\n",
       "      <th>id</th>\n",
       "      <th>brand</th>\n",
       "      <th>milage</th>\n",
       "      <th>fuel_type</th>\n",
       "      <th>transmission</th>\n",
       "      <th>ext_col</th>\n",
       "      <th>int_col</th>\n",
       "      <th>price</th>\n",
       "      <th>Horsepower</th>\n",
       "      <th>Engine_Displacement</th>\n",
       "      <th>age</th>\n",
       "    </tr>\n",
       "  </thead>\n",
       "  <tbody>\n",
       "    <tr>\n",
       "      <th>0</th>\n",
       "      <td>0</td>\n",
       "      <td>Ford</td>\n",
       "      <td>74349</td>\n",
       "      <td>Gasoline</td>\n",
       "      <td>10-Speed A/T</td>\n",
       "      <td>Blue</td>\n",
       "      <td>Gray</td>\n",
       "      <td>11000</td>\n",
       "      <td>375.0</td>\n",
       "      <td>3.5</td>\n",
       "      <td>6</td>\n",
       "    </tr>\n",
       "    <tr>\n",
       "      <th>1</th>\n",
       "      <td>1</td>\n",
       "      <td>BMW</td>\n",
       "      <td>80000</td>\n",
       "      <td>Gasoline</td>\n",
       "      <td>6-Speed M/T</td>\n",
       "      <td>Black</td>\n",
       "      <td>Black</td>\n",
       "      <td>8250</td>\n",
       "      <td>300.0</td>\n",
       "      <td>3.0</td>\n",
       "      <td>17</td>\n",
       "    </tr>\n",
       "    <tr>\n",
       "      <th>2</th>\n",
       "      <td>2</td>\n",
       "      <td>Jaguar</td>\n",
       "      <td>91491</td>\n",
       "      <td>Gasoline</td>\n",
       "      <td>6-Speed A/T</td>\n",
       "      <td>Purple</td>\n",
       "      <td>Beige</td>\n",
       "      <td>15000</td>\n",
       "      <td>300.0</td>\n",
       "      <td>4.2</td>\n",
       "      <td>15</td>\n",
       "    </tr>\n",
       "    <tr>\n",
       "      <th>3</th>\n",
       "      <td>3</td>\n",
       "      <td>BMW</td>\n",
       "      <td>2437</td>\n",
       "      <td>Hybrid</td>\n",
       "      <td>Transmission w/Dual Shift Mode</td>\n",
       "      <td>Gray</td>\n",
       "      <td>Brown</td>\n",
       "      <td>63500</td>\n",
       "      <td>335.0</td>\n",
       "      <td>3.0</td>\n",
       "      <td>2</td>\n",
       "    </tr>\n",
       "  </tbody>\n",
       "</table>\n",
       "</div>"
      ],
      "text/plain": [
       "   id   brand  milage fuel_type                    transmission ext_col  \\\n",
       "0   0    Ford   74349  Gasoline                    10-Speed A/T    Blue   \n",
       "1   1     BMW   80000  Gasoline                     6-Speed M/T   Black   \n",
       "2   2  Jaguar   91491  Gasoline                     6-Speed A/T  Purple   \n",
       "3   3     BMW    2437    Hybrid  Transmission w/Dual Shift Mode    Gray   \n",
       "\n",
       "  int_col  price  Horsepower  Engine_Displacement  age  \n",
       "0    Gray  11000       375.0                  3.5    6  \n",
       "1   Black   8250       300.0                  3.0   17  \n",
       "2   Beige  15000       300.0                  4.2   15  \n",
       "3   Brown  63500       335.0                  3.0    2  "
      ]
     },
     "execution_count": 52,
     "metadata": {},
     "output_type": "execute_result"
    }
   ],
   "source": [
    "df.head(4)"
   ]
  },
  {
   "cell_type": "code",
   "execution_count": 53,
   "id": "63847954",
   "metadata": {},
   "outputs": [
    {
     "data": {
      "text/html": [
       "<div>\n",
       "<style scoped>\n",
       "    .dataframe tbody tr th:only-of-type {\n",
       "        vertical-align: middle;\n",
       "    }\n",
       "\n",
       "    .dataframe tbody tr th {\n",
       "        vertical-align: top;\n",
       "    }\n",
       "\n",
       "    .dataframe thead th {\n",
       "        text-align: right;\n",
       "    }\n",
       "</style>\n",
       "<table border=\"1\" class=\"dataframe\">\n",
       "  <thead>\n",
       "    <tr style=\"text-align: right;\">\n",
       "      <th>fuel_type</th>\n",
       "      <th>Diesel</th>\n",
       "      <th>E85 Flex Fuel</th>\n",
       "      <th>Electric</th>\n",
       "      <th>Gasoline</th>\n",
       "      <th>Hybrid</th>\n",
       "      <th>Plug-In Hybrid</th>\n",
       "    </tr>\n",
       "    <tr>\n",
       "      <th>transmission</th>\n",
       "      <th></th>\n",
       "      <th></th>\n",
       "      <th></th>\n",
       "      <th></th>\n",
       "      <th></th>\n",
       "      <th></th>\n",
       "    </tr>\n",
       "  </thead>\n",
       "  <tbody>\n",
       "    <tr>\n",
       "      <th>1-Speed A/T</th>\n",
       "      <td>33200.000000</td>\n",
       "      <td>NaN</td>\n",
       "      <td>NaN</td>\n",
       "      <td>37159.475000</td>\n",
       "      <td>50700.000000</td>\n",
       "      <td>NaN</td>\n",
       "    </tr>\n",
       "    <tr>\n",
       "      <th>1-Speed Automatic</th>\n",
       "      <td>NaN</td>\n",
       "      <td>NaN</td>\n",
       "      <td>NaN</td>\n",
       "      <td>35625.000000</td>\n",
       "      <td>NaN</td>\n",
       "      <td>NaN</td>\n",
       "    </tr>\n",
       "    <tr>\n",
       "      <th>10-Speed A/T</th>\n",
       "      <td>47531.641304</td>\n",
       "      <td>37481.684211</td>\n",
       "      <td>NaN</td>\n",
       "      <td>42893.625171</td>\n",
       "      <td>47474.166667</td>\n",
       "      <td>NaN</td>\n",
       "    </tr>\n",
       "    <tr>\n",
       "      <th>10-Speed Automatic</th>\n",
       "      <td>41609.800000</td>\n",
       "      <td>NaN</td>\n",
       "      <td>NaN</td>\n",
       "      <td>41205.101167</td>\n",
       "      <td>NaN</td>\n",
       "      <td>NaN</td>\n",
       "    </tr>\n",
       "    <tr>\n",
       "      <th>10-Speed Automatic with Overdrive</th>\n",
       "      <td>NaN</td>\n",
       "      <td>NaN</td>\n",
       "      <td>NaN</td>\n",
       "      <td>47604.500000</td>\n",
       "      <td>NaN</td>\n",
       "      <td>NaN</td>\n",
       "    </tr>\n",
       "    <tr>\n",
       "      <th>2-Speed A/T</th>\n",
       "      <td>NaN</td>\n",
       "      <td>NaN</td>\n",
       "      <td>NaN</td>\n",
       "      <td>NaN</td>\n",
       "      <td>51000.000000</td>\n",
       "      <td>NaN</td>\n",
       "    </tr>\n",
       "    <tr>\n",
       "      <th>4-Speed A/T</th>\n",
       "      <td>8366.666667</td>\n",
       "      <td>11084.193548</td>\n",
       "      <td>14612.600000</td>\n",
       "      <td>11701.653451</td>\n",
       "      <td>8633.333333</td>\n",
       "      <td>NaN</td>\n",
       "    </tr>\n",
       "    <tr>\n",
       "      <th>4-Speed Automatic</th>\n",
       "      <td>NaN</td>\n",
       "      <td>39985.000000</td>\n",
       "      <td>NaN</td>\n",
       "      <td>20104.000000</td>\n",
       "      <td>NaN</td>\n",
       "      <td>NaN</td>\n",
       "    </tr>\n",
       "    <tr>\n",
       "      <th>5-Speed A/T</th>\n",
       "      <td>23258.520833</td>\n",
       "      <td>10785.714286</td>\n",
       "      <td>12945.666667</td>\n",
       "      <td>15787.475158</td>\n",
       "      <td>18499.666667</td>\n",
       "      <td>NaN</td>\n",
       "    </tr>\n",
       "    <tr>\n",
       "      <th>5-Speed Automatic</th>\n",
       "      <td>NaN</td>\n",
       "      <td>NaN</td>\n",
       "      <td>NaN</td>\n",
       "      <td>30055.045455</td>\n",
       "      <td>NaN</td>\n",
       "      <td>NaN</td>\n",
       "    </tr>\n",
       "    <tr>\n",
       "      <th>5-Speed M/T</th>\n",
       "      <td>NaN</td>\n",
       "      <td>NaN</td>\n",
       "      <td>15856.500000</td>\n",
       "      <td>13835.679049</td>\n",
       "      <td>12449.500000</td>\n",
       "      <td>NaN</td>\n",
       "    </tr>\n",
       "    <tr>\n",
       "      <th>6 Speed At/Mt</th>\n",
       "      <td>NaN</td>\n",
       "      <td>NaN</td>\n",
       "      <td>NaN</td>\n",
       "      <td>35707.000000</td>\n",
       "      <td>NaN</td>\n",
       "      <td>NaN</td>\n",
       "    </tr>\n",
       "    <tr>\n",
       "      <th>6 Speed Mt</th>\n",
       "      <td>NaN</td>\n",
       "      <td>NaN</td>\n",
       "      <td>NaN</td>\n",
       "      <td>40452.500000</td>\n",
       "      <td>NaN</td>\n",
       "      <td>NaN</td>\n",
       "    </tr>\n",
       "    <tr>\n",
       "      <th>6-Speed</th>\n",
       "      <td>NaN</td>\n",
       "      <td>NaN</td>\n",
       "      <td>NaN</td>\n",
       "      <td>36642.000000</td>\n",
       "      <td>NaN</td>\n",
       "      <td>NaN</td>\n",
       "    </tr>\n",
       "    <tr>\n",
       "      <th>6-Speed A/T</th>\n",
       "      <td>37388.882184</td>\n",
       "      <td>22761.767355</td>\n",
       "      <td>14625.000000</td>\n",
       "      <td>21361.246448</td>\n",
       "      <td>19144.857143</td>\n",
       "      <td>29585.571429</td>\n",
       "    </tr>\n",
       "    <tr>\n",
       "      <th>6-Speed Automatic</th>\n",
       "      <td>41468.800000</td>\n",
       "      <td>35899.888889</td>\n",
       "      <td>NaN</td>\n",
       "      <td>29786.611111</td>\n",
       "      <td>30275.000000</td>\n",
       "      <td>NaN</td>\n",
       "    </tr>\n",
       "    <tr>\n",
       "      <th>6-Speed Automatic with Auto-Shift</th>\n",
       "      <td>NaN</td>\n",
       "      <td>11672.500000</td>\n",
       "      <td>NaN</td>\n",
       "      <td>21904.500000</td>\n",
       "      <td>24170.200000</td>\n",
       "      <td>NaN</td>\n",
       "    </tr>\n",
       "    <tr>\n",
       "      <th>6-Speed Electronically Controlled Automatic with O</th>\n",
       "      <td>NaN</td>\n",
       "      <td>NaN</td>\n",
       "      <td>NaN</td>\n",
       "      <td>24537.600000</td>\n",
       "      <td>NaN</td>\n",
       "      <td>NaN</td>\n",
       "    </tr>\n",
       "    <tr>\n",
       "      <th>6-Speed M/T</th>\n",
       "      <td>54500.000000</td>\n",
       "      <td>11649.500000</td>\n",
       "      <td>27060.166667</td>\n",
       "      <td>25167.043309</td>\n",
       "      <td>24725.000000</td>\n",
       "      <td>18700.000000</td>\n",
       "    </tr>\n",
       "    <tr>\n",
       "      <th>6-Speed Manual</th>\n",
       "      <td>36750.000000</td>\n",
       "      <td>NaN</td>\n",
       "      <td>NaN</td>\n",
       "      <td>30970.705882</td>\n",
       "      <td>NaN</td>\n",
       "      <td>NaN</td>\n",
       "    </tr>\n",
       "    <tr>\n",
       "      <th>7-Speed A/T</th>\n",
       "      <td>41786.608696</td>\n",
       "      <td>23472.611111</td>\n",
       "      <td>NaN</td>\n",
       "      <td>30743.253333</td>\n",
       "      <td>38333.800000</td>\n",
       "      <td>NaN</td>\n",
       "    </tr>\n",
       "    <tr>\n",
       "      <th>7-Speed Automatic</th>\n",
       "      <td>NaN</td>\n",
       "      <td>NaN</td>\n",
       "      <td>NaN</td>\n",
       "      <td>34662.225806</td>\n",
       "      <td>NaN</td>\n",
       "      <td>NaN</td>\n",
       "    </tr>\n",
       "    <tr>\n",
       "      <th>7-Speed Automatic with Auto-Shift</th>\n",
       "      <td>NaN</td>\n",
       "      <td>NaN</td>\n",
       "      <td>NaN</td>\n",
       "      <td>37696.188679</td>\n",
       "      <td>NaN</td>\n",
       "      <td>NaN</td>\n",
       "    </tr>\n",
       "    <tr>\n",
       "      <th>7-Speed DCT Automatic</th>\n",
       "      <td>NaN</td>\n",
       "      <td>NaN</td>\n",
       "      <td>NaN</td>\n",
       "      <td>52667.666667</td>\n",
       "      <td>NaN</td>\n",
       "      <td>NaN</td>\n",
       "    </tr>\n",
       "    <tr>\n",
       "      <th>7-Speed M/T</th>\n",
       "      <td>NaN</td>\n",
       "      <td>NaN</td>\n",
       "      <td>NaN</td>\n",
       "      <td>46554.065217</td>\n",
       "      <td>NaN</td>\n",
       "      <td>NaN</td>\n",
       "    </tr>\n",
       "    <tr>\n",
       "      <th>7-Speed Manual</th>\n",
       "      <td>NaN</td>\n",
       "      <td>NaN</td>\n",
       "      <td>NaN</td>\n",
       "      <td>43369.714286</td>\n",
       "      <td>NaN</td>\n",
       "      <td>NaN</td>\n",
       "    </tr>\n",
       "    <tr>\n",
       "      <th>8-Speed A/T</th>\n",
       "      <td>30740.340909</td>\n",
       "      <td>24565.139535</td>\n",
       "      <td>37724.875000</td>\n",
       "      <td>34837.649586</td>\n",
       "      <td>41831.865922</td>\n",
       "      <td>38719.906977</td>\n",
       "    </tr>\n",
       "    <tr>\n",
       "      <th>8-Speed Automatic</th>\n",
       "      <td>NaN</td>\n",
       "      <td>36314.800000</td>\n",
       "      <td>NaN</td>\n",
       "      <td>36673.883495</td>\n",
       "      <td>36248.300000</td>\n",
       "      <td>61999.000000</td>\n",
       "    </tr>\n",
       "    <tr>\n",
       "      <th>8-Speed Automatic with Auto-Shift</th>\n",
       "      <td>NaN</td>\n",
       "      <td>NaN</td>\n",
       "      <td>NaN</td>\n",
       "      <td>37743.294118</td>\n",
       "      <td>NaN</td>\n",
       "      <td>NaN</td>\n",
       "    </tr>\n",
       "    <tr>\n",
       "      <th>8-Speed Manual</th>\n",
       "      <td>NaN</td>\n",
       "      <td>NaN</td>\n",
       "      <td>NaN</td>\n",
       "      <td>43905.666667</td>\n",
       "      <td>NaN</td>\n",
       "      <td>NaN</td>\n",
       "    </tr>\n",
       "    <tr>\n",
       "      <th>9-Speed A/T</th>\n",
       "      <td>49571.285714</td>\n",
       "      <td>25465.000000</td>\n",
       "      <td>30097.250000</td>\n",
       "      <td>38134.000000</td>\n",
       "      <td>45981.500000</td>\n",
       "      <td>NaN</td>\n",
       "    </tr>\n",
       "    <tr>\n",
       "      <th>9-Speed Automatic</th>\n",
       "      <td>36340.000000</td>\n",
       "      <td>26691.000000</td>\n",
       "      <td>NaN</td>\n",
       "      <td>36513.332117</td>\n",
       "      <td>20481.666667</td>\n",
       "      <td>NaN</td>\n",
       "    </tr>\n",
       "    <tr>\n",
       "      <th>A/T</th>\n",
       "      <td>28762.020747</td>\n",
       "      <td>21085.641429</td>\n",
       "      <td>15036.882353</td>\n",
       "      <td>21963.638363</td>\n",
       "      <td>28749.033684</td>\n",
       "      <td>26557.083333</td>\n",
       "    </tr>\n",
       "    <tr>\n",
       "      <th>Automatic</th>\n",
       "      <td>45727.125000</td>\n",
       "      <td>NaN</td>\n",
       "      <td>NaN</td>\n",
       "      <td>39403.588060</td>\n",
       "      <td>34586.214286</td>\n",
       "      <td>NaN</td>\n",
       "    </tr>\n",
       "    <tr>\n",
       "      <th>Automatic CVT</th>\n",
       "      <td>NaN</td>\n",
       "      <td>NaN</td>\n",
       "      <td>NaN</td>\n",
       "      <td>28866.950000</td>\n",
       "      <td>37796.727273</td>\n",
       "      <td>NaN</td>\n",
       "    </tr>\n",
       "    <tr>\n",
       "      <th>CVT Transmission</th>\n",
       "      <td>19995.000000</td>\n",
       "      <td>NaN</td>\n",
       "      <td>NaN</td>\n",
       "      <td>21626.655955</td>\n",
       "      <td>29086.654676</td>\n",
       "      <td>22560.909091</td>\n",
       "    </tr>\n",
       "    <tr>\n",
       "      <th>CVT-F</th>\n",
       "      <td>NaN</td>\n",
       "      <td>NaN</td>\n",
       "      <td>NaN</td>\n",
       "      <td>52999.000000</td>\n",
       "      <td>NaN</td>\n",
       "      <td>NaN</td>\n",
       "    </tr>\n",
       "    <tr>\n",
       "      <th>F</th>\n",
       "      <td>NaN</td>\n",
       "      <td>NaN</td>\n",
       "      <td>NaN</td>\n",
       "      <td>28998.000000</td>\n",
       "      <td>NaN</td>\n",
       "      <td>NaN</td>\n",
       "    </tr>\n",
       "    <tr>\n",
       "      <th>M/T</th>\n",
       "      <td>NaN</td>\n",
       "      <td>NaN</td>\n",
       "      <td>NaN</td>\n",
       "      <td>18573.687316</td>\n",
       "      <td>NaN</td>\n",
       "      <td>NaN</td>\n",
       "    </tr>\n",
       "    <tr>\n",
       "      <th>SCHEDULED FOR OR IN PRODUCTION</th>\n",
       "      <td>NaN</td>\n",
       "      <td>NaN</td>\n",
       "      <td>NaN</td>\n",
       "      <td>NaN</td>\n",
       "      <td>43125.000000</td>\n",
       "      <td>NaN</td>\n",
       "    </tr>\n",
       "    <tr>\n",
       "      <th>Transmission Overdrive Switch</th>\n",
       "      <td>NaN</td>\n",
       "      <td>20017.454545</td>\n",
       "      <td>NaN</td>\n",
       "      <td>22178.285714</td>\n",
       "      <td>NaN</td>\n",
       "      <td>NaN</td>\n",
       "    </tr>\n",
       "    <tr>\n",
       "      <th>Transmission w/Dual Shift Mode</th>\n",
       "      <td>39963.444444</td>\n",
       "      <td>27805.800000</td>\n",
       "      <td>20899.923077</td>\n",
       "      <td>30801.207166</td>\n",
       "      <td>42991.669173</td>\n",
       "      <td>33911.408163</td>\n",
       "    </tr>\n",
       "    <tr>\n",
       "      <th>–</th>\n",
       "      <td>NaN</td>\n",
       "      <td>NaN</td>\n",
       "      <td>55000.000000</td>\n",
       "      <td>NaN</td>\n",
       "      <td>NaN</td>\n",
       "      <td>NaN</td>\n",
       "    </tr>\n",
       "  </tbody>\n",
       "</table>\n",
       "</div>"
      ],
      "text/plain": [
       "fuel_type                                                 Diesel  \\\n",
       "transmission                                                       \n",
       "1-Speed A/T                                         33200.000000   \n",
       "1-Speed Automatic                                            NaN   \n",
       "10-Speed A/T                                        47531.641304   \n",
       "10-Speed Automatic                                  41609.800000   \n",
       "10-Speed Automatic with Overdrive                            NaN   \n",
       "2-Speed A/T                                                  NaN   \n",
       "4-Speed A/T                                          8366.666667   \n",
       "4-Speed Automatic                                            NaN   \n",
       "5-Speed A/T                                         23258.520833   \n",
       "5-Speed Automatic                                            NaN   \n",
       "5-Speed M/T                                                  NaN   \n",
       "6 Speed At/Mt                                                NaN   \n",
       "6 Speed Mt                                                   NaN   \n",
       "6-Speed                                                      NaN   \n",
       "6-Speed A/T                                         37388.882184   \n",
       "6-Speed Automatic                                   41468.800000   \n",
       "6-Speed Automatic with Auto-Shift                            NaN   \n",
       "6-Speed Electronically Controlled Automatic with O           NaN   \n",
       "6-Speed M/T                                         54500.000000   \n",
       "6-Speed Manual                                      36750.000000   \n",
       "7-Speed A/T                                         41786.608696   \n",
       "7-Speed Automatic                                            NaN   \n",
       "7-Speed Automatic with Auto-Shift                            NaN   \n",
       "7-Speed DCT Automatic                                        NaN   \n",
       "7-Speed M/T                                                  NaN   \n",
       "7-Speed Manual                                               NaN   \n",
       "8-Speed A/T                                         30740.340909   \n",
       "8-Speed Automatic                                            NaN   \n",
       "8-Speed Automatic with Auto-Shift                            NaN   \n",
       "8-Speed Manual                                               NaN   \n",
       "9-Speed A/T                                         49571.285714   \n",
       "9-Speed Automatic                                   36340.000000   \n",
       "A/T                                                 28762.020747   \n",
       "Automatic                                           45727.125000   \n",
       "Automatic CVT                                                NaN   \n",
       "CVT Transmission                                    19995.000000   \n",
       "CVT-F                                                        NaN   \n",
       "F                                                            NaN   \n",
       "M/T                                                          NaN   \n",
       "SCHEDULED FOR OR IN PRODUCTION                               NaN   \n",
       "Transmission Overdrive Switch                                NaN   \n",
       "Transmission w/Dual Shift Mode                      39963.444444   \n",
       "–                                                            NaN   \n",
       "\n",
       "fuel_type                                           E85 Flex Fuel  \\\n",
       "transmission                                                        \n",
       "1-Speed A/T                                                   NaN   \n",
       "1-Speed Automatic                                             NaN   \n",
       "10-Speed A/T                                         37481.684211   \n",
       "10-Speed Automatic                                            NaN   \n",
       "10-Speed Automatic with Overdrive                             NaN   \n",
       "2-Speed A/T                                                   NaN   \n",
       "4-Speed A/T                                          11084.193548   \n",
       "4-Speed Automatic                                    39985.000000   \n",
       "5-Speed A/T                                          10785.714286   \n",
       "5-Speed Automatic                                             NaN   \n",
       "5-Speed M/T                                                   NaN   \n",
       "6 Speed At/Mt                                                 NaN   \n",
       "6 Speed Mt                                                    NaN   \n",
       "6-Speed                                                       NaN   \n",
       "6-Speed A/T                                          22761.767355   \n",
       "6-Speed Automatic                                    35899.888889   \n",
       "6-Speed Automatic with Auto-Shift                    11672.500000   \n",
       "6-Speed Electronically Controlled Automatic with O            NaN   \n",
       "6-Speed M/T                                          11649.500000   \n",
       "6-Speed Manual                                                NaN   \n",
       "7-Speed A/T                                          23472.611111   \n",
       "7-Speed Automatic                                             NaN   \n",
       "7-Speed Automatic with Auto-Shift                             NaN   \n",
       "7-Speed DCT Automatic                                         NaN   \n",
       "7-Speed M/T                                                   NaN   \n",
       "7-Speed Manual                                                NaN   \n",
       "8-Speed A/T                                          24565.139535   \n",
       "8-Speed Automatic                                    36314.800000   \n",
       "8-Speed Automatic with Auto-Shift                             NaN   \n",
       "8-Speed Manual                                                NaN   \n",
       "9-Speed A/T                                          25465.000000   \n",
       "9-Speed Automatic                                    26691.000000   \n",
       "A/T                                                  21085.641429   \n",
       "Automatic                                                     NaN   \n",
       "Automatic CVT                                                 NaN   \n",
       "CVT Transmission                                              NaN   \n",
       "CVT-F                                                         NaN   \n",
       "F                                                             NaN   \n",
       "M/T                                                           NaN   \n",
       "SCHEDULED FOR OR IN PRODUCTION                                NaN   \n",
       "Transmission Overdrive Switch                        20017.454545   \n",
       "Transmission w/Dual Shift Mode                       27805.800000   \n",
       "–                                                             NaN   \n",
       "\n",
       "fuel_type                                               Electric  \\\n",
       "transmission                                                       \n",
       "1-Speed A/T                                                  NaN   \n",
       "1-Speed Automatic                                            NaN   \n",
       "10-Speed A/T                                                 NaN   \n",
       "10-Speed Automatic                                           NaN   \n",
       "10-Speed Automatic with Overdrive                            NaN   \n",
       "2-Speed A/T                                                  NaN   \n",
       "4-Speed A/T                                         14612.600000   \n",
       "4-Speed Automatic                                            NaN   \n",
       "5-Speed A/T                                         12945.666667   \n",
       "5-Speed Automatic                                            NaN   \n",
       "5-Speed M/T                                         15856.500000   \n",
       "6 Speed At/Mt                                                NaN   \n",
       "6 Speed Mt                                                   NaN   \n",
       "6-Speed                                                      NaN   \n",
       "6-Speed A/T                                         14625.000000   \n",
       "6-Speed Automatic                                            NaN   \n",
       "6-Speed Automatic with Auto-Shift                            NaN   \n",
       "6-Speed Electronically Controlled Automatic with O           NaN   \n",
       "6-Speed M/T                                         27060.166667   \n",
       "6-Speed Manual                                               NaN   \n",
       "7-Speed A/T                                                  NaN   \n",
       "7-Speed Automatic                                            NaN   \n",
       "7-Speed Automatic with Auto-Shift                            NaN   \n",
       "7-Speed DCT Automatic                                        NaN   \n",
       "7-Speed M/T                                                  NaN   \n",
       "7-Speed Manual                                               NaN   \n",
       "8-Speed A/T                                         37724.875000   \n",
       "8-Speed Automatic                                            NaN   \n",
       "8-Speed Automatic with Auto-Shift                            NaN   \n",
       "8-Speed Manual                                               NaN   \n",
       "9-Speed A/T                                         30097.250000   \n",
       "9-Speed Automatic                                            NaN   \n",
       "A/T                                                 15036.882353   \n",
       "Automatic                                                    NaN   \n",
       "Automatic CVT                                                NaN   \n",
       "CVT Transmission                                             NaN   \n",
       "CVT-F                                                        NaN   \n",
       "F                                                            NaN   \n",
       "M/T                                                          NaN   \n",
       "SCHEDULED FOR OR IN PRODUCTION                               NaN   \n",
       "Transmission Overdrive Switch                                NaN   \n",
       "Transmission w/Dual Shift Mode                      20899.923077   \n",
       "–                                                   55000.000000   \n",
       "\n",
       "fuel_type                                               Gasoline  \\\n",
       "transmission                                                       \n",
       "1-Speed A/T                                         37159.475000   \n",
       "1-Speed Automatic                                   35625.000000   \n",
       "10-Speed A/T                                        42893.625171   \n",
       "10-Speed Automatic                                  41205.101167   \n",
       "10-Speed Automatic with Overdrive                   47604.500000   \n",
       "2-Speed A/T                                                  NaN   \n",
       "4-Speed A/T                                         11701.653451   \n",
       "4-Speed Automatic                                   20104.000000   \n",
       "5-Speed A/T                                         15787.475158   \n",
       "5-Speed Automatic                                   30055.045455   \n",
       "5-Speed M/T                                         13835.679049   \n",
       "6 Speed At/Mt                                       35707.000000   \n",
       "6 Speed Mt                                          40452.500000   \n",
       "6-Speed                                             36642.000000   \n",
       "6-Speed A/T                                         21361.246448   \n",
       "6-Speed Automatic                                   29786.611111   \n",
       "6-Speed Automatic with Auto-Shift                   21904.500000   \n",
       "6-Speed Electronically Controlled Automatic with O  24537.600000   \n",
       "6-Speed M/T                                         25167.043309   \n",
       "6-Speed Manual                                      30970.705882   \n",
       "7-Speed A/T                                         30743.253333   \n",
       "7-Speed Automatic                                   34662.225806   \n",
       "7-Speed Automatic with Auto-Shift                   37696.188679   \n",
       "7-Speed DCT Automatic                               52667.666667   \n",
       "7-Speed M/T                                         46554.065217   \n",
       "7-Speed Manual                                      43369.714286   \n",
       "8-Speed A/T                                         34837.649586   \n",
       "8-Speed Automatic                                   36673.883495   \n",
       "8-Speed Automatic with Auto-Shift                   37743.294118   \n",
       "8-Speed Manual                                      43905.666667   \n",
       "9-Speed A/T                                         38134.000000   \n",
       "9-Speed Automatic                                   36513.332117   \n",
       "A/T                                                 21963.638363   \n",
       "Automatic                                           39403.588060   \n",
       "Automatic CVT                                       28866.950000   \n",
       "CVT Transmission                                    21626.655955   \n",
       "CVT-F                                               52999.000000   \n",
       "F                                                   28998.000000   \n",
       "M/T                                                 18573.687316   \n",
       "SCHEDULED FOR OR IN PRODUCTION                               NaN   \n",
       "Transmission Overdrive Switch                       22178.285714   \n",
       "Transmission w/Dual Shift Mode                      30801.207166   \n",
       "–                                                            NaN   \n",
       "\n",
       "fuel_type                                                 Hybrid  \\\n",
       "transmission                                                       \n",
       "1-Speed A/T                                         50700.000000   \n",
       "1-Speed Automatic                                            NaN   \n",
       "10-Speed A/T                                        47474.166667   \n",
       "10-Speed Automatic                                           NaN   \n",
       "10-Speed Automatic with Overdrive                            NaN   \n",
       "2-Speed A/T                                         51000.000000   \n",
       "4-Speed A/T                                          8633.333333   \n",
       "4-Speed Automatic                                            NaN   \n",
       "5-Speed A/T                                         18499.666667   \n",
       "5-Speed Automatic                                            NaN   \n",
       "5-Speed M/T                                         12449.500000   \n",
       "6 Speed At/Mt                                                NaN   \n",
       "6 Speed Mt                                                   NaN   \n",
       "6-Speed                                                      NaN   \n",
       "6-Speed A/T                                         19144.857143   \n",
       "6-Speed Automatic                                   30275.000000   \n",
       "6-Speed Automatic with Auto-Shift                   24170.200000   \n",
       "6-Speed Electronically Controlled Automatic with O           NaN   \n",
       "6-Speed M/T                                         24725.000000   \n",
       "6-Speed Manual                                               NaN   \n",
       "7-Speed A/T                                         38333.800000   \n",
       "7-Speed Automatic                                            NaN   \n",
       "7-Speed Automatic with Auto-Shift                            NaN   \n",
       "7-Speed DCT Automatic                                        NaN   \n",
       "7-Speed M/T                                                  NaN   \n",
       "7-Speed Manual                                               NaN   \n",
       "8-Speed A/T                                         41831.865922   \n",
       "8-Speed Automatic                                   36248.300000   \n",
       "8-Speed Automatic with Auto-Shift                            NaN   \n",
       "8-Speed Manual                                               NaN   \n",
       "9-Speed A/T                                         45981.500000   \n",
       "9-Speed Automatic                                   20481.666667   \n",
       "A/T                                                 28749.033684   \n",
       "Automatic                                           34586.214286   \n",
       "Automatic CVT                                       37796.727273   \n",
       "CVT Transmission                                    29086.654676   \n",
       "CVT-F                                                        NaN   \n",
       "F                                                            NaN   \n",
       "M/T                                                          NaN   \n",
       "SCHEDULED FOR OR IN PRODUCTION                      43125.000000   \n",
       "Transmission Overdrive Switch                                NaN   \n",
       "Transmission w/Dual Shift Mode                      42991.669173   \n",
       "–                                                            NaN   \n",
       "\n",
       "fuel_type                                           Plug-In Hybrid  \n",
       "transmission                                                        \n",
       "1-Speed A/T                                                    NaN  \n",
       "1-Speed Automatic                                              NaN  \n",
       "10-Speed A/T                                                   NaN  \n",
       "10-Speed Automatic                                             NaN  \n",
       "10-Speed Automatic with Overdrive                              NaN  \n",
       "2-Speed A/T                                                    NaN  \n",
       "4-Speed A/T                                                    NaN  \n",
       "4-Speed Automatic                                              NaN  \n",
       "5-Speed A/T                                                    NaN  \n",
       "5-Speed Automatic                                              NaN  \n",
       "5-Speed M/T                                                    NaN  \n",
       "6 Speed At/Mt                                                  NaN  \n",
       "6 Speed Mt                                                     NaN  \n",
       "6-Speed                                                        NaN  \n",
       "6-Speed A/T                                           29585.571429  \n",
       "6-Speed Automatic                                              NaN  \n",
       "6-Speed Automatic with Auto-Shift                              NaN  \n",
       "6-Speed Electronically Controlled Automatic with O             NaN  \n",
       "6-Speed M/T                                           18700.000000  \n",
       "6-Speed Manual                                                 NaN  \n",
       "7-Speed A/T                                                    NaN  \n",
       "7-Speed Automatic                                              NaN  \n",
       "7-Speed Automatic with Auto-Shift                              NaN  \n",
       "7-Speed DCT Automatic                                          NaN  \n",
       "7-Speed M/T                                                    NaN  \n",
       "7-Speed Manual                                                 NaN  \n",
       "8-Speed A/T                                           38719.906977  \n",
       "8-Speed Automatic                                     61999.000000  \n",
       "8-Speed Automatic with Auto-Shift                              NaN  \n",
       "8-Speed Manual                                                 NaN  \n",
       "9-Speed A/T                                                    NaN  \n",
       "9-Speed Automatic                                              NaN  \n",
       "A/T                                                   26557.083333  \n",
       "Automatic                                                      NaN  \n",
       "Automatic CVT                                                  NaN  \n",
       "CVT Transmission                                      22560.909091  \n",
       "CVT-F                                                          NaN  \n",
       "F                                                              NaN  \n",
       "M/T                                                            NaN  \n",
       "SCHEDULED FOR OR IN PRODUCTION                                 NaN  \n",
       "Transmission Overdrive Switch                                  NaN  \n",
       "Transmission w/Dual Shift Mode                        33911.408163  \n",
       "–                                                              NaN  "
      ]
     },
     "execution_count": 53,
     "metadata": {},
     "output_type": "execute_result"
    }
   ],
   "source": [
    "#create a group of transmission, fuel_type and price\n",
    "df_group = df.groupby(['transmission', 'fuel_type'])['price'].mean().reset_index()\n",
    "#create a pivot table\n",
    "df_pivot = df_group.pivot(index = 'transmission', columns = 'fuel_type', values = 'price')\n",
    "df_pivot"
   ]
  },
  {
   "cell_type": "code",
   "execution_count": 54,
   "id": "f56b8a01",
   "metadata": {},
   "outputs": [
    {
     "data": {
      "image/png": "[encoded data removed]",
      "text/plain": [
       "<Figure size 1800x3000 with 2 Axes>"
      ]
     },
     "metadata": {},
     "output_type": "display_data"
    }
   ],
   "source": [
    "import matplotlib.pyplot as plt\n",
    "import seaborn as sns\n",
    "import numpy as np\n",
    "\n",
    "# Create a heatmap\n",
    "fig, ax = plt.subplots(figsize=(18, 30), dpi=100)\n",
    "cax = ax.matshow(df_pivot, cmap='RdBu')\n",
    "\n",
    "# Label names\n",
    "row_labels = df_pivot.columns\n",
    "col_labels = df_pivot.index\n",
    "\n",
    "# Move ticks and labels to the center\n",
    "ax.set_xticks(np.arange(df_pivot.shape[1]))\n",
    "ax.set_yticks(np.arange(df_pivot.shape[0]))\n",
    "\n",
    "# Insert labels\n",
    "ax.set_xticklabels(row_labels)\n",
    "ax.set_yticklabels(col_labels)\n",
    "\n",
    "# Rotate label if too long\n",
    "plt.xticks(rotation=90)\n",
    "# Add price numbers on each box\n",
    "for i in range(len(col_labels)):\n",
    "    for j in range(len(row_labels)):\n",
    "        text = ax.text(j, i, f'{df_pivot.iloc[i, j]:.2f}', ha='center', va='center', color='w')\n",
    "\n",
    "plt.colorbar(cax, label='Average Price')\n",
    "plt.show()"
   ]
  },
  {
   "cell_type": "code",
   "execution_count": 55,
   "id": "339b6b5f",
   "metadata": {},
   "outputs": [
    {
     "data": {
      "text/plain": [
       "(array([-50000.,      0.,  50000., 100000., 150000., 200000., 250000.,\n",
       "        300000., 350000., 400000., 450000.]),\n",
       " [Text(-50000.0, 0, '−50000'),\n",
       "  Text(0.0, 0, '0'),\n",
       "  Text(50000.0, 0, '50000'),\n",
       "  Text(100000.0, 0, '100000'),\n",
       "  Text(150000.0, 0, '150000'),\n",
       "  Text(200000.0, 0, '200000'),\n",
       "  Text(250000.0, 0, '250000'),\n",
       "  Text(300000.0, 0, '300000'),\n",
       "  Text(350000.0, 0, '350000'),\n",
       "  Text(400000.0, 0, '400000'),\n",
       "  Text(450000.0, 0, '450000')])"
      ]
     },
     "execution_count": 55,
     "metadata": {},
     "output_type": "execute_result"
    },
    {
     "data": {
      "image/png": "[encoded data removed]",
      "text/plain": [
       "<Figure size 1000x600 with 1 Axes>"
      ]
     },
     "metadata": {},
     "output_type": "display_data"
    }
   ],
   "source": [
    "#draw and regression plot of milage vs price\n",
    "import seaborn as sns\n",
    "sns.set_theme(style=\"whitegrid\")\n",
    "import matplotlib.pyplot as plt\n",
    "plt.figure(figsize=(10, 6))\n",
    "sns.regplot(x = 'milage', y = 'price', data =df)\n",
    "plt.xticks(rotation=45)"
   ]
  },
  {
   "cell_type": "code",
   "execution_count": 56,
   "id": "4143794a",
   "metadata": {},
   "outputs": [
    {
     "name": "stdout",
     "output_type": "stream",
     "text": [
      "The Pearson Correlation Coefficient is 0.5008004847891931  with a P-value of P = 0.0\n"
     ]
    }
   ],
   "source": [
    "from scipy import stats\n",
    "#to find pearson coefficent - Horsepower and Price\n",
    "pearson_coef, p_value = stats.pearsonr(df['Horsepower'], df['price'])\n",
    "print(\"The Pearson Correlation Coefficient is\", pearson_coef, \" with a P-value of P =\", p_value)"
   ]
  },
  {
   "cell_type": "code",
   "execution_count": 57,
   "id": "72b2d70f",
   "metadata": {},
   "outputs": [
    {
     "name": "stdout",
     "output_type": "stream",
     "text": [
      "The Pearson Correlation Coefficient is -0.6382135985292476  with a P-value of P = 0.0\n"
     ]
    }
   ],
   "source": [
    "#to find pearson coefficent - age and price\n",
    "pearson_coef, p_value = stats.pearsonr(df['age'], df['price'])\n",
    "print(\"The Pearson Correlation Coefficient is\", pearson_coef, \" with a P-value of P =\", p_value)"
   ]
  },
  {
   "cell_type": "code",
   "execution_count": 58,
   "id": "3ed79d1f",
   "metadata": {},
   "outputs": [
    {
     "name": "stdout",
     "output_type": "stream",
     "text": [
      "The Pearson Correlation Coefficient is -0.6291778927675257  with a P-value of P = 0.0\n"
     ]
    }
   ],
   "source": [
    "#to find pearson coefficent - milage and price\n",
    "pearson_coef, p_value = stats.pearsonr(df['milage'], df['price'])\n",
    "print(\"The Pearson Correlation Coefficient is\", pearson_coef, \" with a P-value of P =\", p_value)"
   ]
  },
  {
   "cell_type": "code",
   "execution_count": 59,
   "id": "fce2d46d",
   "metadata": {},
   "outputs": [
    {
     "name": "stdout",
     "output_type": "stream",
     "text": [
      "The Pearson Correlation Coefficient is 0.18073673111842053  with a P-value of P = 0.0\n"
     ]
    }
   ],
   "source": [
    "#to find pearson coefficent - engine displacement\n",
    "pearson_coef, p_value = stats.pearsonr(df['Engine_Displacement'], df['price'])\n",
    "print(\"The Pearson Correlation Coefficient is\", pearson_coef, \" with a P-value of P =\", p_value)"
   ]
  },
  {
   "cell_type": "code",
   "execution_count": 60,
   "id": "2e8809c2",
   "metadata": {},
   "outputs": [
    {
     "data": {
      "text/html": [
       "<div>\n",
       "<style scoped>\n",
       "    .dataframe tbody tr th:only-of-type {\n",
       "        vertical-align: middle;\n",
       "    }\n",
       "\n",
       "    .dataframe tbody tr th {\n",
       "        vertical-align: top;\n",
       "    }\n",
       "\n",
       "    .dataframe thead th {\n",
       "        text-align: right;\n",
       "    }\n",
       "</style>\n",
       "<table border=\"1\" class=\"dataframe\">\n",
       "  <thead>\n",
       "    <tr style=\"text-align: right;\">\n",
       "      <th></th>\n",
       "      <th>transmission</th>\n",
       "      <th>price</th>\n",
       "    </tr>\n",
       "  </thead>\n",
       "  <tbody>\n",
       "    <tr>\n",
       "      <th>0</th>\n",
       "      <td>10-Speed A/T</td>\n",
       "      <td>11000</td>\n",
       "    </tr>\n",
       "    <tr>\n",
       "      <th>1</th>\n",
       "      <td>6-Speed M/T</td>\n",
       "      <td>8250</td>\n",
       "    </tr>\n",
       "    <tr>\n",
       "      <th>2</th>\n",
       "      <td>6-Speed A/T</td>\n",
       "      <td>15000</td>\n",
       "    </tr>\n",
       "    <tr>\n",
       "      <th>3</th>\n",
       "      <td>Transmission w/Dual Shift Mode</td>\n",
       "      <td>63500</td>\n",
       "    </tr>\n",
       "    <tr>\n",
       "      <th>4</th>\n",
       "      <td>A/T</td>\n",
       "      <td>7850</td>\n",
       "    </tr>\n",
       "    <tr>\n",
       "      <th>...</th>\n",
       "      <td>...</td>\n",
       "      <td>...</td>\n",
       "    </tr>\n",
       "    <tr>\n",
       "      <th>48102</th>\n",
       "      <td>SCHEDULED FOR OR IN PRODUCTION</td>\n",
       "      <td>56750</td>\n",
       "    </tr>\n",
       "    <tr>\n",
       "      <th>49125</th>\n",
       "      <td>1-Speed Automatic</td>\n",
       "      <td>44495</td>\n",
       "    </tr>\n",
       "    <tr>\n",
       "      <th>50337</th>\n",
       "      <td>6-Speed</td>\n",
       "      <td>39951</td>\n",
       "    </tr>\n",
       "    <tr>\n",
       "      <th>51956</th>\n",
       "      <td>1-Speed Automatic</td>\n",
       "      <td>36791</td>\n",
       "    </tr>\n",
       "    <tr>\n",
       "      <th>52201</th>\n",
       "      <td>6-Speed</td>\n",
       "      <td>33333</td>\n",
       "    </tr>\n",
       "  </tbody>\n",
       "</table>\n",
       "<p>178 rows × 2 columns</p>\n",
       "</div>"
      ],
      "text/plain": [
       "                         transmission  price\n",
       "0                        10-Speed A/T  11000\n",
       "1                         6-Speed M/T   8250\n",
       "2                         6-Speed A/T  15000\n",
       "3      Transmission w/Dual Shift Mode  63500\n",
       "4                                 A/T   7850\n",
       "...                               ...    ...\n",
       "48102  SCHEDULED FOR OR IN PRODUCTION  56750\n",
       "49125               1-Speed Automatic  44495\n",
       "50337                         6-Speed  39951\n",
       "51956               1-Speed Automatic  36791\n",
       "52201                         6-Speed  33333\n",
       "\n",
       "[178 rows x 2 columns]"
      ]
     },
     "execution_count": 60,
     "metadata": {},
     "output_type": "execute_result"
    }
   ],
   "source": [
    "grp_test = df[['fuel_type','transmission','price']]\n",
    "new_group_1 = grp_test[['transmission','price']].groupby(['transmission'])\n",
    "new_group_1.head(5)"
   ]
  },
  {
   "cell_type": "code",
   "execution_count": 61,
   "id": "cb4a98bb",
   "metadata": {},
   "outputs": [
    {
     "name": "stdout",
     "output_type": "stream",
     "text": [
      "ANOVA results: F= 442.2580697488286 , P = 0.0\n"
     ]
    }
   ],
   "source": [
    "f_val, p_val = stats.f_oneway(\n",
    "    new_group_1.get_group('6-Speed A/T')['price'],\n",
    "    new_group_1.get_group('8-Speed Automatic')['price'],\n",
    "    new_group_1.get_group('7-Speed A/T')['price'],\n",
    "    new_group_1.get_group('8-Speed A/T')['price'],\n",
    "    new_group_1.get_group('9-Speed Automatic')['price'],\n",
    "    new_group_1.get_group('10-Speed A/T')['price'],\n",
    "    new_group_1.get_group('9-Speed A/T')['price'],\n",
    "    new_group_1.get_group('Automatic CVT')['price'],\n",
    "    new_group_1.get_group('7-Speed Automatic with Auto-Shift')['price'],\n",
    "    new_group_1.get_group('10-Speed Automatic')['price'],\n",
    "    new_group_1.get_group('6-Speed Automatic')['price'],\n",
    "    new_group_1.get_group('8-Speed Automatic with Auto-Shift')['price'],\n",
    "    new_group_1.get_group('7-Speed Automatic')['price'])\n",
    "print( \"ANOVA results: F=\", f_val, \", P =\", p_val)\n"
   ]
  },
  {
   "cell_type": "code",
   "execution_count": 62,
   "id": "66a4ab54",
   "metadata": {},
   "outputs": [
    {
     "data": {
      "text/html": [
       "<div>\n",
       "<style scoped>\n",
       "    .dataframe tbody tr th:only-of-type {\n",
       "        vertical-align: middle;\n",
       "    }\n",
       "\n",
       "    .dataframe tbody tr th {\n",
       "        vertical-align: top;\n",
       "    }\n",
       "\n",
       "    .dataframe thead th {\n",
       "        text-align: right;\n",
       "    }\n",
       "</style>\n",
       "<table border=\"1\" class=\"dataframe\">\n",
       "  <thead>\n",
       "    <tr style=\"text-align: right;\">\n",
       "      <th></th>\n",
       "      <th>fuel_type</th>\n",
       "      <th>price</th>\n",
       "    </tr>\n",
       "  </thead>\n",
       "  <tbody>\n",
       "    <tr>\n",
       "      <th>0</th>\n",
       "      <td>Gasoline</td>\n",
       "      <td>11000</td>\n",
       "    </tr>\n",
       "    <tr>\n",
       "      <th>1</th>\n",
       "      <td>Gasoline</td>\n",
       "      <td>8250</td>\n",
       "    </tr>\n",
       "    <tr>\n",
       "      <th>2</th>\n",
       "      <td>Gasoline</td>\n",
       "      <td>15000</td>\n",
       "    </tr>\n",
       "    <tr>\n",
       "      <th>3</th>\n",
       "      <td>Hybrid</td>\n",
       "      <td>63500</td>\n",
       "    </tr>\n",
       "    <tr>\n",
       "      <th>4</th>\n",
       "      <td>Gasoline</td>\n",
       "      <td>7850</td>\n",
       "    </tr>\n",
       "    <tr>\n",
       "      <th>5</th>\n",
       "      <td>Gasoline</td>\n",
       "      <td>4995</td>\n",
       "    </tr>\n",
       "    <tr>\n",
       "      <th>18</th>\n",
       "      <td>E85 Flex Fuel</td>\n",
       "      <td>31900</td>\n",
       "    </tr>\n",
       "    <tr>\n",
       "      <th>29</th>\n",
       "      <td>Diesel</td>\n",
       "      <td>51900</td>\n",
       "    </tr>\n",
       "    <tr>\n",
       "      <th>31</th>\n",
       "      <td>Hybrid</td>\n",
       "      <td>50000</td>\n",
       "    </tr>\n",
       "    <tr>\n",
       "      <th>39</th>\n",
       "      <td>Hybrid</td>\n",
       "      <td>53000</td>\n",
       "    </tr>\n",
       "    <tr>\n",
       "      <th>56</th>\n",
       "      <td>Diesel</td>\n",
       "      <td>50000</td>\n",
       "    </tr>\n",
       "    <tr>\n",
       "      <th>107</th>\n",
       "      <td>Hybrid</td>\n",
       "      <td>14699</td>\n",
       "    </tr>\n",
       "    <tr>\n",
       "      <th>114</th>\n",
       "      <td>Diesel</td>\n",
       "      <td>45000</td>\n",
       "    </tr>\n",
       "    <tr>\n",
       "      <th>118</th>\n",
       "      <td>Hybrid</td>\n",
       "      <td>30000</td>\n",
       "    </tr>\n",
       "    <tr>\n",
       "      <th>122</th>\n",
       "      <td>E85 Flex Fuel</td>\n",
       "      <td>6499</td>\n",
       "    </tr>\n",
       "    <tr>\n",
       "      <th>134</th>\n",
       "      <td>E85 Flex Fuel</td>\n",
       "      <td>12850</td>\n",
       "    </tr>\n",
       "    <tr>\n",
       "      <th>190</th>\n",
       "      <td>E85 Flex Fuel</td>\n",
       "      <td>29500</td>\n",
       "    </tr>\n",
       "    <tr>\n",
       "      <th>201</th>\n",
       "      <td>Plug-In Hybrid</td>\n",
       "      <td>27900</td>\n",
       "    </tr>\n",
       "    <tr>\n",
       "      <th>214</th>\n",
       "      <td>Diesel</td>\n",
       "      <td>64900</td>\n",
       "    </tr>\n",
       "    <tr>\n",
       "      <th>303</th>\n",
       "      <td>E85 Flex Fuel</td>\n",
       "      <td>17500</td>\n",
       "    </tr>\n",
       "    <tr>\n",
       "      <th>316</th>\n",
       "      <td>Diesel</td>\n",
       "      <td>40500</td>\n",
       "    </tr>\n",
       "    <tr>\n",
       "      <th>497</th>\n",
       "      <td>Electric</td>\n",
       "      <td>15000</td>\n",
       "    </tr>\n",
       "    <tr>\n",
       "      <th>619</th>\n",
       "      <td>Electric</td>\n",
       "      <td>45999</td>\n",
       "    </tr>\n",
       "    <tr>\n",
       "      <th>641</th>\n",
       "      <td>Electric</td>\n",
       "      <td>20000</td>\n",
       "    </tr>\n",
       "    <tr>\n",
       "      <th>823</th>\n",
       "      <td>Electric</td>\n",
       "      <td>11900</td>\n",
       "    </tr>\n",
       "    <tr>\n",
       "      <th>993</th>\n",
       "      <td>Electric</td>\n",
       "      <td>7300</td>\n",
       "    </tr>\n",
       "    <tr>\n",
       "      <th>1750</th>\n",
       "      <td>Plug-In Hybrid</td>\n",
       "      <td>11800</td>\n",
       "    </tr>\n",
       "    <tr>\n",
       "      <th>2147</th>\n",
       "      <td>Plug-In Hybrid</td>\n",
       "      <td>12500</td>\n",
       "    </tr>\n",
       "    <tr>\n",
       "      <th>2227</th>\n",
       "      <td>Plug-In Hybrid</td>\n",
       "      <td>36750</td>\n",
       "    </tr>\n",
       "    <tr>\n",
       "      <th>2470</th>\n",
       "      <td>Plug-In Hybrid</td>\n",
       "      <td>23000</td>\n",
       "    </tr>\n",
       "  </tbody>\n",
       "</table>\n",
       "</div>"
      ],
      "text/plain": [
       "           fuel_type  price\n",
       "0           Gasoline  11000\n",
       "1           Gasoline   8250\n",
       "2           Gasoline  15000\n",
       "3             Hybrid  63500\n",
       "4           Gasoline   7850\n",
       "5           Gasoline   4995\n",
       "18     E85 Flex Fuel  31900\n",
       "29            Diesel  51900\n",
       "31            Hybrid  50000\n",
       "39            Hybrid  53000\n",
       "56            Diesel  50000\n",
       "107           Hybrid  14699\n",
       "114           Diesel  45000\n",
       "118           Hybrid  30000\n",
       "122    E85 Flex Fuel   6499\n",
       "134    E85 Flex Fuel  12850\n",
       "190    E85 Flex Fuel  29500\n",
       "201   Plug-In Hybrid  27900\n",
       "214           Diesel  64900\n",
       "303    E85 Flex Fuel  17500\n",
       "316           Diesel  40500\n",
       "497         Electric  15000\n",
       "619         Electric  45999\n",
       "641         Electric  20000\n",
       "823         Electric  11900\n",
       "993         Electric   7300\n",
       "1750  Plug-In Hybrid  11800\n",
       "2147  Plug-In Hybrid  12500\n",
       "2227  Plug-In Hybrid  36750\n",
       "2470  Plug-In Hybrid  23000"
      ]
     },
     "execution_count": 62,
     "metadata": {},
     "output_type": "execute_result"
    }
   ],
   "source": [
    "new_group_2 = grp_test[['fuel_type','price']].groupby(['fuel_type'])\n",
    "new_group_2.head(5)"
   ]
  },
  {
   "cell_type": "code",
   "execution_count": 63,
   "id": "c3d2671a",
   "metadata": {},
   "outputs": [
    {
     "name": "stdout",
     "output_type": "stream",
     "text": [
      "ANOVA results: F= 176.3405650980536 , P = 1.3244782595555825e-186\n"
     ]
    }
   ],
   "source": [
    "#testing for multiple fuel types\n",
    "f_val, p_val = stats.f_oneway(new_group_2.get_group('E85 Flex Fuel')['price'], new_group_2.get_group('Gasoline')['price'], new_group_2.get_group('Hybrid')['price'], new_group_2.get_group('Diesel')['price'], new_group_2.get_group('Plug-In Hybrid')['price'], new_group_2.get_group('Electric')['price']) \n",
    "   \n",
    "print( \"ANOVA results: F=\", f_val, \", P =\", p_val)   "
   ]
  },
  {
   "cell_type": "code",
   "execution_count": 65,
   "id": "63a0c753",
   "metadata": {},
   "outputs": [
    {
     "name": "stdout",
     "output_type": "stream",
     "text": [
      "Collecting category_encoders\n",
      "  Downloading category_encoders-2.6.3-py2.py3-none-any.whl (81 kB)\n",
      "     -------------------------------------- 81.9/81.9 kB 218.3 kB/s eta 0:00:00\n",
      "Requirement already satisfied: patsy>=0.5.1 in c:\\users\\lakshmi\\anaconda3\\lib\\site-packages (from category_encoders) (0.5.2)\n",
      "Requirement already satisfied: scipy>=1.0.0 in c:\\users\\lakshmi\\anaconda3\\lib\\site-packages (from category_encoders) (1.10.1)\n",
      "Requirement already satisfied: statsmodels>=0.9.0 in c:\\users\\lakshmi\\anaconda3\\lib\\site-packages (from category_encoders) (0.13.2)\n",
      "Requirement already satisfied: numpy>=1.14.0 in c:\\users\\lakshmi\\anaconda3\\lib\\site-packages (from category_encoders) (1.25.0)\n",
      "Requirement already satisfied: pandas>=1.0.5 in c:\\users\\lakshmi\\anaconda3\\lib\\site-packages (from category_encoders) (2.0.2)\n",
      "Requirement already satisfied: scikit-learn>=0.20.0 in c:\\users\\lakshmi\\anaconda3\\lib\\site-packages (from category_encoders) (1.0.2)\n",
      "Requirement already satisfied: pytz>=2020.1 in c:\\users\\lakshmi\\anaconda3\\lib\\site-packages (from pandas>=1.0.5->category_encoders) (2023.3)\n",
      "Requirement already satisfied: tzdata>=2022.1 in c:\\users\\lakshmi\\anaconda3\\lib\\site-packages (from pandas>=1.0.5->category_encoders) (2023.3)\n",
      "Requirement already satisfied: python-dateutil>=2.8.2 in c:\\users\\lakshmi\\anaconda3\\lib\\site-packages (from pandas>=1.0.5->category_encoders) (2.8.2)\n",
      "Requirement already satisfied: six in c:\\users\\lakshmi\\anaconda3\\lib\\site-packages (from patsy>=0.5.1->category_encoders) (1.16.0)\n",
      "Requirement already satisfied: threadpoolctl>=2.0.0 in c:\\users\\lakshmi\\anaconda3\\lib\\site-packages (from scikit-learn>=0.20.0->category_encoders) (2.2.0)\n",
      "Requirement already satisfied: joblib>=0.11 in c:\\users\\lakshmi\\anaconda3\\lib\\site-packages (from scikit-learn>=0.20.0->category_encoders) (1.1.0)\n",
      "Requirement already satisfied: packaging>=21.3 in c:\\users\\lakshmi\\anaconda3\\lib\\site-packages (from statsmodels>=0.9.0->category_encoders) (21.3)\n",
      "Requirement already satisfied: pyparsing!=3.0.5,>=2.0.2 in c:\\users\\lakshmi\\anaconda3\\lib\\site-packages (from packaging>=21.3->statsmodels>=0.9.0->category_encoders) (3.0.9)\n",
      "Installing collected packages: category_encoders\n",
      "Successfully installed category_encoders-2.6.3\n"
     ]
    }
   ],
   "source": [
    "!pip install category_encoders"
   ]
  },
  {
   "cell_type": "code",
   "execution_count": 66,
   "id": "83ed205c",
   "metadata": {},
   "outputs": [
    {
     "name": "stderr",
     "output_type": "stream",
     "text": [
      "C:\\Users\\Lakshmi\\AppData\\Local\\Temp\\ipykernel_25100\\104869771.py:4: SettingWithCopyWarning: \n",
      "A value is trying to be set on a copy of a slice from a DataFrame.\n",
      "Try using .loc[row_indexer,col_indexer] = value instead\n",
      "\n",
      "See the caveats in the documentation: https://pandas.pydata.org/pandas-docs/stable/user_guide/indexing.html#returning-a-view-versus-a-copy\n",
      "  df['fuel_type_target'] = encoder.fit_transform(df['fuel_type'], df['price'])\n"
     ]
    },
    {
     "data": {
      "text/html": [
       "<div>\n",
       "<style scoped>\n",
       "    .dataframe tbody tr th:only-of-type {\n",
       "        vertical-align: middle;\n",
       "    }\n",
       "\n",
       "    .dataframe tbody tr th {\n",
       "        vertical-align: top;\n",
       "    }\n",
       "\n",
       "    .dataframe thead th {\n",
       "        text-align: right;\n",
       "    }\n",
       "</style>\n",
       "<table border=\"1\" class=\"dataframe\">\n",
       "  <thead>\n",
       "    <tr style=\"text-align: right;\">\n",
       "      <th></th>\n",
       "      <th>id</th>\n",
       "      <th>brand</th>\n",
       "      <th>milage</th>\n",
       "      <th>fuel_type</th>\n",
       "      <th>transmission</th>\n",
       "      <th>ext_col</th>\n",
       "      <th>int_col</th>\n",
       "      <th>price</th>\n",
       "      <th>Horsepower</th>\n",
       "      <th>Engine_Displacement</th>\n",
       "      <th>age</th>\n",
       "      <th>fuel_type_target</th>\n",
       "    </tr>\n",
       "  </thead>\n",
       "  <tbody>\n",
       "    <tr>\n",
       "      <th>0</th>\n",
       "      <td>0</td>\n",
       "      <td>Ford</td>\n",
       "      <td>74349</td>\n",
       "      <td>Gasoline</td>\n",
       "      <td>10-Speed A/T</td>\n",
       "      <td>Blue</td>\n",
       "      <td>Gray</td>\n",
       "      <td>11000</td>\n",
       "      <td>375.0</td>\n",
       "      <td>3.5</td>\n",
       "      <td>6</td>\n",
       "      <td>26727.332745</td>\n",
       "    </tr>\n",
       "    <tr>\n",
       "      <th>1</th>\n",
       "      <td>1</td>\n",
       "      <td>BMW</td>\n",
       "      <td>80000</td>\n",
       "      <td>Gasoline</td>\n",
       "      <td>6-Speed M/T</td>\n",
       "      <td>Black</td>\n",
       "      <td>Black</td>\n",
       "      <td>8250</td>\n",
       "      <td>300.0</td>\n",
       "      <td>3.0</td>\n",
       "      <td>17</td>\n",
       "      <td>26727.332745</td>\n",
       "    </tr>\n",
       "    <tr>\n",
       "      <th>2</th>\n",
       "      <td>2</td>\n",
       "      <td>Jaguar</td>\n",
       "      <td>91491</td>\n",
       "      <td>Gasoline</td>\n",
       "      <td>6-Speed A/T</td>\n",
       "      <td>Purple</td>\n",
       "      <td>Beige</td>\n",
       "      <td>15000</td>\n",
       "      <td>300.0</td>\n",
       "      <td>4.2</td>\n",
       "      <td>15</td>\n",
       "      <td>26727.332745</td>\n",
       "    </tr>\n",
       "    <tr>\n",
       "      <th>3</th>\n",
       "      <td>3</td>\n",
       "      <td>BMW</td>\n",
       "      <td>2437</td>\n",
       "      <td>Hybrid</td>\n",
       "      <td>Transmission w/Dual Shift Mode</td>\n",
       "      <td>Gray</td>\n",
       "      <td>Brown</td>\n",
       "      <td>63500</td>\n",
       "      <td>335.0</td>\n",
       "      <td>3.0</td>\n",
       "      <td>2</td>\n",
       "      <td>34880.205593</td>\n",
       "    </tr>\n",
       "    <tr>\n",
       "      <th>4</th>\n",
       "      <td>4</td>\n",
       "      <td>Pontiac</td>\n",
       "      <td>111000</td>\n",
       "      <td>Gasoline</td>\n",
       "      <td>A/T</td>\n",
       "      <td>White</td>\n",
       "      <td>Black</td>\n",
       "      <td>7850</td>\n",
       "      <td>200.0</td>\n",
       "      <td>3.8</td>\n",
       "      <td>23</td>\n",
       "      <td>26727.332745</td>\n",
       "    </tr>\n",
       "  </tbody>\n",
       "</table>\n",
       "</div>"
      ],
      "text/plain": [
       "   id    brand  milage fuel_type                    transmission ext_col  \\\n",
       "0   0     Ford   74349  Gasoline                    10-Speed A/T    Blue   \n",
       "1   1      BMW   80000  Gasoline                     6-Speed M/T   Black   \n",
       "2   2   Jaguar   91491  Gasoline                     6-Speed A/T  Purple   \n",
       "3   3      BMW    2437    Hybrid  Transmission w/Dual Shift Mode    Gray   \n",
       "4   4  Pontiac  111000  Gasoline                             A/T   White   \n",
       "\n",
       "  int_col  price  Horsepower  Engine_Displacement  age  fuel_type_target  \n",
       "0    Gray  11000       375.0                  3.5    6      26727.332745  \n",
       "1   Black   8250       300.0                  3.0   17      26727.332745  \n",
       "2   Beige  15000       300.0                  4.2   15      26727.332745  \n",
       "3   Brown  63500       335.0                  3.0    2      34880.205593  \n",
       "4   Black   7850       200.0                  3.8   23      26727.332745  "
      ]
     },
     "execution_count": 66,
     "metadata": {},
     "output_type": "execute_result"
    }
   ],
   "source": [
    "#Apply target encoding to fuel_type column in relation to price \n",
    "import category_encoders as ce\n",
    "encoder = ce.TargetEncoder(cols=['fuel_type'])\n",
    "df['fuel_type_target'] = encoder.fit_transform(df['fuel_type'], df['price'])\n",
    "df.head()"
   ]
  },
  {
   "cell_type": "code",
   "execution_count": 67,
   "id": "4e75377e",
   "metadata": {},
   "outputs": [
    {
     "name": "stderr",
     "output_type": "stream",
     "text": [
      "C:\\Users\\Lakshmi\\AppData\\Local\\Temp\\ipykernel_25100\\3323456986.py:3: SettingWithCopyWarning: \n",
      "A value is trying to be set on a copy of a slice from a DataFrame.\n",
      "Try using .loc[row_indexer,col_indexer] = value instead\n",
      "\n",
      "See the caveats in the documentation: https://pandas.pydata.org/pandas-docs/stable/user_guide/indexing.html#returning-a-view-versus-a-copy\n",
      "  df['transmission_target'] = encoder.fit_transform(df['transmission'], df['price'])\n"
     ]
    },
    {
     "data": {
      "text/html": [
       "<div>\n",
       "<style scoped>\n",
       "    .dataframe tbody tr th:only-of-type {\n",
       "        vertical-align: middle;\n",
       "    }\n",
       "\n",
       "    .dataframe tbody tr th {\n",
       "        vertical-align: top;\n",
       "    }\n",
       "\n",
       "    .dataframe thead th {\n",
       "        text-align: right;\n",
       "    }\n",
       "</style>\n",
       "<table border=\"1\" class=\"dataframe\">\n",
       "  <thead>\n",
       "    <tr style=\"text-align: right;\">\n",
       "      <th></th>\n",
       "      <th>id</th>\n",
       "      <th>brand</th>\n",
       "      <th>milage</th>\n",
       "      <th>fuel_type</th>\n",
       "      <th>transmission</th>\n",
       "      <th>ext_col</th>\n",
       "      <th>int_col</th>\n",
       "      <th>price</th>\n",
       "      <th>Horsepower</th>\n",
       "      <th>Engine_Displacement</th>\n",
       "      <th>age</th>\n",
       "      <th>fuel_type_target</th>\n",
       "      <th>transmission_target</th>\n",
       "    </tr>\n",
       "  </thead>\n",
       "  <tbody>\n",
       "    <tr>\n",
       "      <th>0</th>\n",
       "      <td>0</td>\n",
       "      <td>Ford</td>\n",
       "      <td>74349</td>\n",
       "      <td>Gasoline</td>\n",
       "      <td>10-Speed A/T</td>\n",
       "      <td>Blue</td>\n",
       "      <td>Gray</td>\n",
       "      <td>11000</td>\n",
       "      <td>375.0</td>\n",
       "      <td>3.5</td>\n",
       "      <td>6</td>\n",
       "      <td>26727.332745</td>\n",
       "      <td>43181.389894</td>\n",
       "    </tr>\n",
       "    <tr>\n",
       "      <th>1</th>\n",
       "      <td>1</td>\n",
       "      <td>BMW</td>\n",
       "      <td>80000</td>\n",
       "      <td>Gasoline</td>\n",
       "      <td>6-Speed M/T</td>\n",
       "      <td>Black</td>\n",
       "      <td>Black</td>\n",
       "      <td>8250</td>\n",
       "      <td>300.0</td>\n",
       "      <td>3.0</td>\n",
       "      <td>17</td>\n",
       "      <td>26727.332745</td>\n",
       "      <td>25182.333038</td>\n",
       "    </tr>\n",
       "    <tr>\n",
       "      <th>2</th>\n",
       "      <td>2</td>\n",
       "      <td>Jaguar</td>\n",
       "      <td>91491</td>\n",
       "      <td>Gasoline</td>\n",
       "      <td>6-Speed A/T</td>\n",
       "      <td>Purple</td>\n",
       "      <td>Beige</td>\n",
       "      <td>15000</td>\n",
       "      <td>300.0</td>\n",
       "      <td>4.2</td>\n",
       "      <td>15</td>\n",
       "      <td>26727.332745</td>\n",
       "      <td>22442.515973</td>\n",
       "    </tr>\n",
       "    <tr>\n",
       "      <th>3</th>\n",
       "      <td>3</td>\n",
       "      <td>BMW</td>\n",
       "      <td>2437</td>\n",
       "      <td>Hybrid</td>\n",
       "      <td>Transmission w/Dual Shift Mode</td>\n",
       "      <td>Gray</td>\n",
       "      <td>Brown</td>\n",
       "      <td>63500</td>\n",
       "      <td>335.0</td>\n",
       "      <td>3.0</td>\n",
       "      <td>2</td>\n",
       "      <td>34880.205593</td>\n",
       "      <td>31183.413245</td>\n",
       "    </tr>\n",
       "    <tr>\n",
       "      <th>4</th>\n",
       "      <td>4</td>\n",
       "      <td>Pontiac</td>\n",
       "      <td>111000</td>\n",
       "      <td>Gasoline</td>\n",
       "      <td>A/T</td>\n",
       "      <td>White</td>\n",
       "      <td>Black</td>\n",
       "      <td>7850</td>\n",
       "      <td>200.0</td>\n",
       "      <td>3.8</td>\n",
       "      <td>23</td>\n",
       "      <td>26727.332745</td>\n",
       "      <td>22179.077309</td>\n",
       "    </tr>\n",
       "  </tbody>\n",
       "</table>\n",
       "</div>"
      ],
      "text/plain": [
       "   id    brand  milage fuel_type                    transmission ext_col  \\\n",
       "0   0     Ford   74349  Gasoline                    10-Speed A/T    Blue   \n",
       "1   1      BMW   80000  Gasoline                     6-Speed M/T   Black   \n",
       "2   2   Jaguar   91491  Gasoline                     6-Speed A/T  Purple   \n",
       "3   3      BMW    2437    Hybrid  Transmission w/Dual Shift Mode    Gray   \n",
       "4   4  Pontiac  111000  Gasoline                             A/T   White   \n",
       "\n",
       "  int_col  price  Horsepower  Engine_Displacement  age  fuel_type_target  \\\n",
       "0    Gray  11000       375.0                  3.5    6      26727.332745   \n",
       "1   Black   8250       300.0                  3.0   17      26727.332745   \n",
       "2   Beige  15000       300.0                  4.2   15      26727.332745   \n",
       "3   Brown  63500       335.0                  3.0    2      34880.205593   \n",
       "4   Black   7850       200.0                  3.8   23      26727.332745   \n",
       "\n",
       "   transmission_target  \n",
       "0         43181.389894  \n",
       "1         25182.333038  \n",
       "2         22442.515973  \n",
       "3         31183.413245  \n",
       "4         22179.077309  "
      ]
     },
     "execution_count": 67,
     "metadata": {},
     "output_type": "execute_result"
    }
   ],
   "source": [
    "import category_encoders as ce\n",
    "encoder = ce.TargetEncoder(cols=['transmission'])\n",
    "df['transmission_target'] = encoder.fit_transform(df['transmission'], df['price'])\n",
    "df.head()"
   ]
  },
  {
   "cell_type": "code",
   "execution_count": 68,
   "id": "9d752142",
   "metadata": {},
   "outputs": [
    {
     "name": "stderr",
     "output_type": "stream",
     "text": [
      "C:\\Users\\Lakshmi\\AppData\\Local\\Temp\\ipykernel_25100\\103328239.py:4: SettingWithCopyWarning: \n",
      "A value is trying to be set on a copy of a slice from a DataFrame.\n",
      "Try using .loc[row_indexer,col_indexer] = value instead\n",
      "\n",
      "See the caveats in the documentation: https://pandas.pydata.org/pandas-docs/stable/user_guide/indexing.html#returning-a-view-versus-a-copy\n",
      "  df['brand_target'] = encoder.fit_transform(df['brand'], df['price'])\n"
     ]
    },
    {
     "data": {
      "text/html": [
       "<div>\n",
       "<style scoped>\n",
       "    .dataframe tbody tr th:only-of-type {\n",
       "        vertical-align: middle;\n",
       "    }\n",
       "\n",
       "    .dataframe tbody tr th {\n",
       "        vertical-align: top;\n",
       "    }\n",
       "\n",
       "    .dataframe thead th {\n",
       "        text-align: right;\n",
       "    }\n",
       "</style>\n",
       "<table border=\"1\" class=\"dataframe\">\n",
       "  <thead>\n",
       "    <tr style=\"text-align: right;\">\n",
       "      <th></th>\n",
       "      <th>id</th>\n",
       "      <th>brand</th>\n",
       "      <th>milage</th>\n",
       "      <th>fuel_type</th>\n",
       "      <th>transmission</th>\n",
       "      <th>ext_col</th>\n",
       "      <th>int_col</th>\n",
       "      <th>price</th>\n",
       "      <th>Horsepower</th>\n",
       "      <th>Engine_Displacement</th>\n",
       "      <th>age</th>\n",
       "      <th>fuel_type_target</th>\n",
       "      <th>transmission_target</th>\n",
       "      <th>brand_target</th>\n",
       "    </tr>\n",
       "  </thead>\n",
       "  <tbody>\n",
       "    <tr>\n",
       "      <th>0</th>\n",
       "      <td>0</td>\n",
       "      <td>Ford</td>\n",
       "      <td>74349</td>\n",
       "      <td>Gasoline</td>\n",
       "      <td>10-Speed A/T</td>\n",
       "      <td>Blue</td>\n",
       "      <td>Gray</td>\n",
       "      <td>11000</td>\n",
       "      <td>375.0</td>\n",
       "      <td>3.5</td>\n",
       "      <td>6</td>\n",
       "      <td>26727.332745</td>\n",
       "      <td>43181.389894</td>\n",
       "      <td>29635.891644</td>\n",
       "    </tr>\n",
       "    <tr>\n",
       "      <th>1</th>\n",
       "      <td>1</td>\n",
       "      <td>BMW</td>\n",
       "      <td>80000</td>\n",
       "      <td>Gasoline</td>\n",
       "      <td>6-Speed M/T</td>\n",
       "      <td>Black</td>\n",
       "      <td>Black</td>\n",
       "      <td>8250</td>\n",
       "      <td>300.0</td>\n",
       "      <td>3.0</td>\n",
       "      <td>17</td>\n",
       "      <td>26727.332745</td>\n",
       "      <td>25182.333038</td>\n",
       "      <td>29528.898910</td>\n",
       "    </tr>\n",
       "    <tr>\n",
       "      <th>2</th>\n",
       "      <td>2</td>\n",
       "      <td>Jaguar</td>\n",
       "      <td>91491</td>\n",
       "      <td>Gasoline</td>\n",
       "      <td>6-Speed A/T</td>\n",
       "      <td>Purple</td>\n",
       "      <td>Beige</td>\n",
       "      <td>15000</td>\n",
       "      <td>300.0</td>\n",
       "      <td>4.2</td>\n",
       "      <td>15</td>\n",
       "      <td>26727.332745</td>\n",
       "      <td>22442.515973</td>\n",
       "      <td>25565.730508</td>\n",
       "    </tr>\n",
       "    <tr>\n",
       "      <th>3</th>\n",
       "      <td>3</td>\n",
       "      <td>BMW</td>\n",
       "      <td>2437</td>\n",
       "      <td>Hybrid</td>\n",
       "      <td>Transmission w/Dual Shift Mode</td>\n",
       "      <td>Gray</td>\n",
       "      <td>Brown</td>\n",
       "      <td>63500</td>\n",
       "      <td>335.0</td>\n",
       "      <td>3.0</td>\n",
       "      <td>2</td>\n",
       "      <td>34880.205593</td>\n",
       "      <td>31183.413245</td>\n",
       "      <td>29528.898910</td>\n",
       "    </tr>\n",
       "    <tr>\n",
       "      <th>4</th>\n",
       "      <td>4</td>\n",
       "      <td>Pontiac</td>\n",
       "      <td>111000</td>\n",
       "      <td>Gasoline</td>\n",
       "      <td>A/T</td>\n",
       "      <td>White</td>\n",
       "      <td>Black</td>\n",
       "      <td>7850</td>\n",
       "      <td>200.0</td>\n",
       "      <td>3.8</td>\n",
       "      <td>23</td>\n",
       "      <td>26727.332745</td>\n",
       "      <td>22179.077309</td>\n",
       "      <td>15315.025511</td>\n",
       "    </tr>\n",
       "  </tbody>\n",
       "</table>\n",
       "</div>"
      ],
      "text/plain": [
       "   id    brand  milage fuel_type                    transmission ext_col  \\\n",
       "0   0     Ford   74349  Gasoline                    10-Speed A/T    Blue   \n",
       "1   1      BMW   80000  Gasoline                     6-Speed M/T   Black   \n",
       "2   2   Jaguar   91491  Gasoline                     6-Speed A/T  Purple   \n",
       "3   3      BMW    2437    Hybrid  Transmission w/Dual Shift Mode    Gray   \n",
       "4   4  Pontiac  111000  Gasoline                             A/T   White   \n",
       "\n",
       "  int_col  price  Horsepower  Engine_Displacement  age  fuel_type_target  \\\n",
       "0    Gray  11000       375.0                  3.5    6      26727.332745   \n",
       "1   Black   8250       300.0                  3.0   17      26727.332745   \n",
       "2   Beige  15000       300.0                  4.2   15      26727.332745   \n",
       "3   Brown  63500       335.0                  3.0    2      34880.205593   \n",
       "4   Black   7850       200.0                  3.8   23      26727.332745   \n",
       "\n",
       "   transmission_target  brand_target  \n",
       "0         43181.389894  29635.891644  \n",
       "1         25182.333038  29528.898910  \n",
       "2         22442.515973  25565.730508  \n",
       "3         31183.413245  29528.898910  \n",
       "4         22179.077309  15315.025511  "
      ]
     },
     "execution_count": 68,
     "metadata": {},
     "output_type": "execute_result"
    }
   ],
   "source": [
    "#Apply target encoding to brand column in relation to price\n",
    "import category_encoders as ce\n",
    "encoder = ce.TargetEncoder(cols=['brand'])\n",
    "df['brand_target'] = encoder.fit_transform(df['brand'], df['price'])\n",
    "df.head()"
   ]
  },
  {
   "cell_type": "code",
   "execution_count": 69,
   "id": "49f05799",
   "metadata": {},
   "outputs": [
    {
     "name": "stderr",
     "output_type": "stream",
     "text": [
      "C:\\Users\\Lakshmi\\AppData\\Local\\Temp\\ipykernel_25100\\3998026198.py:2: SettingWithCopyWarning: \n",
      "A value is trying to be set on a copy of a slice from a DataFrame\n",
      "\n",
      "See the caveats in the documentation: https://pandas.pydata.org/pandas-docs/stable/user_guide/indexing.html#returning-a-view-versus-a-copy\n",
      "  df.drop(['ext_col', 'int_col'], axis = 1, inplace = True)\n"
     ]
    },
    {
     "data": {
      "text/html": [
       "<div>\n",
       "<style scoped>\n",
       "    .dataframe tbody tr th:only-of-type {\n",
       "        vertical-align: middle;\n",
       "    }\n",
       "\n",
       "    .dataframe tbody tr th {\n",
       "        vertical-align: top;\n",
       "    }\n",
       "\n",
       "    .dataframe thead th {\n",
       "        text-align: right;\n",
       "    }\n",
       "</style>\n",
       "<table border=\"1\" class=\"dataframe\">\n",
       "  <thead>\n",
       "    <tr style=\"text-align: right;\">\n",
       "      <th></th>\n",
       "      <th>id</th>\n",
       "      <th>brand</th>\n",
       "      <th>milage</th>\n",
       "      <th>fuel_type</th>\n",
       "      <th>transmission</th>\n",
       "      <th>price</th>\n",
       "      <th>Horsepower</th>\n",
       "      <th>Engine_Displacement</th>\n",
       "      <th>age</th>\n",
       "      <th>fuel_type_target</th>\n",
       "      <th>transmission_target</th>\n",
       "      <th>brand_target</th>\n",
       "    </tr>\n",
       "  </thead>\n",
       "  <tbody>\n",
       "    <tr>\n",
       "      <th>0</th>\n",
       "      <td>0</td>\n",
       "      <td>Ford</td>\n",
       "      <td>74349</td>\n",
       "      <td>Gasoline</td>\n",
       "      <td>10-Speed A/T</td>\n",
       "      <td>11000</td>\n",
       "      <td>375.0</td>\n",
       "      <td>3.5</td>\n",
       "      <td>6</td>\n",
       "      <td>26727.332745</td>\n",
       "      <td>43181.389894</td>\n",
       "      <td>29635.891644</td>\n",
       "    </tr>\n",
       "    <tr>\n",
       "      <th>1</th>\n",
       "      <td>1</td>\n",
       "      <td>BMW</td>\n",
       "      <td>80000</td>\n",
       "      <td>Gasoline</td>\n",
       "      <td>6-Speed M/T</td>\n",
       "      <td>8250</td>\n",
       "      <td>300.0</td>\n",
       "      <td>3.0</td>\n",
       "      <td>17</td>\n",
       "      <td>26727.332745</td>\n",
       "      <td>25182.333038</td>\n",
       "      <td>29528.898910</td>\n",
       "    </tr>\n",
       "    <tr>\n",
       "      <th>2</th>\n",
       "      <td>2</td>\n",
       "      <td>Jaguar</td>\n",
       "      <td>91491</td>\n",
       "      <td>Gasoline</td>\n",
       "      <td>6-Speed A/T</td>\n",
       "      <td>15000</td>\n",
       "      <td>300.0</td>\n",
       "      <td>4.2</td>\n",
       "      <td>15</td>\n",
       "      <td>26727.332745</td>\n",
       "      <td>22442.515973</td>\n",
       "      <td>25565.730508</td>\n",
       "    </tr>\n",
       "    <tr>\n",
       "      <th>3</th>\n",
       "      <td>3</td>\n",
       "      <td>BMW</td>\n",
       "      <td>2437</td>\n",
       "      <td>Hybrid</td>\n",
       "      <td>Transmission w/Dual Shift Mode</td>\n",
       "      <td>63500</td>\n",
       "      <td>335.0</td>\n",
       "      <td>3.0</td>\n",
       "      <td>2</td>\n",
       "      <td>34880.205593</td>\n",
       "      <td>31183.413245</td>\n",
       "      <td>29528.898910</td>\n",
       "    </tr>\n",
       "    <tr>\n",
       "      <th>4</th>\n",
       "      <td>4</td>\n",
       "      <td>Pontiac</td>\n",
       "      <td>111000</td>\n",
       "      <td>Gasoline</td>\n",
       "      <td>A/T</td>\n",
       "      <td>7850</td>\n",
       "      <td>200.0</td>\n",
       "      <td>3.8</td>\n",
       "      <td>23</td>\n",
       "      <td>26727.332745</td>\n",
       "      <td>22179.077309</td>\n",
       "      <td>15315.025511</td>\n",
       "    </tr>\n",
       "  </tbody>\n",
       "</table>\n",
       "</div>"
      ],
      "text/plain": [
       "   id    brand  milage fuel_type                    transmission  price  \\\n",
       "0   0     Ford   74349  Gasoline                    10-Speed A/T  11000   \n",
       "1   1      BMW   80000  Gasoline                     6-Speed M/T   8250   \n",
       "2   2   Jaguar   91491  Gasoline                     6-Speed A/T  15000   \n",
       "3   3      BMW    2437    Hybrid  Transmission w/Dual Shift Mode  63500   \n",
       "4   4  Pontiac  111000  Gasoline                             A/T   7850   \n",
       "\n",
       "   Horsepower  Engine_Displacement  age  fuel_type_target  \\\n",
       "0       375.0                  3.5    6      26727.332745   \n",
       "1       300.0                  3.0   17      26727.332745   \n",
       "2       300.0                  4.2   15      26727.332745   \n",
       "3       335.0                  3.0    2      34880.205593   \n",
       "4       200.0                  3.8   23      26727.332745   \n",
       "\n",
       "   transmission_target  brand_target  \n",
       "0         43181.389894  29635.891644  \n",
       "1         25182.333038  29528.898910  \n",
       "2         22442.515973  25565.730508  \n",
       "3         31183.413245  29528.898910  \n",
       "4         22179.077309  15315.025511  "
      ]
     },
     "execution_count": 69,
     "metadata": {},
     "output_type": "execute_result"
    }
   ],
   "source": [
    "#drop ext_col and int_col\n",
    "df.drop(['ext_col', 'int_col'], axis = 1, inplace = True)\n",
    "df.head()"
   ]
  },
  {
   "cell_type": "code",
   "execution_count": 70,
   "id": "ba168b61",
   "metadata": {},
   "outputs": [
    {
     "data": {
      "text/plain": [
       "0.13475656692947255"
      ]
     },
     "execution_count": 70,
     "metadata": {},
     "output_type": "execute_result"
    }
   ],
   "source": [
    "df['fuel_type_target'].corr(df['price'])"
   ]
  },
  {
   "cell_type": "code",
   "execution_count": 71,
   "id": "42feeed1",
   "metadata": {},
   "outputs": [
    {
     "data": {
      "text/plain": [
       "0.45367513700821294"
      ]
     },
     "execution_count": 71,
     "metadata": {},
     "output_type": "execute_result"
    }
   ],
   "source": [
    "df['transmission_target'].corr(df['price'])\n"
   ]
  },
  {
   "cell_type": "code",
   "execution_count": 72,
   "id": "4ee30ceb",
   "metadata": {},
   "outputs": [
    {
     "data": {
      "text/plain": [
       "0.30879431170036725"
      ]
     },
     "execution_count": 72,
     "metadata": {},
     "output_type": "execute_result"
    }
   ],
   "source": [
    "df['brand_target'].corr(df['price'])"
   ]
  },
  {
   "cell_type": "code",
   "execution_count": 73,
   "id": "bdf90b91",
   "metadata": {},
   "outputs": [],
   "source": [
    "# prediction"
   ]
  },
  {
   "cell_type": "code",
   "execution_count": 74,
   "id": "16284a23",
   "metadata": {},
   "outputs": [
    {
     "data": {
      "text/plain": [
       "LinearRegression()"
      ]
     },
     "execution_count": 74,
     "metadata": {},
     "output_type": "execute_result"
    }
   ],
   "source": [
    "from sklearn.linear_model import LinearRegression\n",
    "lm = LinearRegression()\n",
    "x = df[['brand_target']]\n",
    "y = df[['price']]\n",
    "lm.fit(x,y)"
   ]
  },
  {
   "cell_type": "code",
   "execution_count": 75,
   "id": "84fa9b9e",
   "metadata": {},
   "outputs": [
    {
     "data": {
      "text/plain": [
       "array([[29656.80259881],\n",
       "       [29549.20330206],\n",
       "       [25563.56693625],\n",
       "       [29549.20330206],\n",
       "       [15254.7487203 ]])"
      ]
     },
     "execution_count": 75,
     "metadata": {},
     "output_type": "execute_result"
    }
   ],
   "source": [
    "#make predictions\n",
    "yhat = lm.predict(x)\n",
    "yhat[0:5]"
   ]
  },
  {
   "cell_type": "code",
   "execution_count": 76,
   "id": "d5c8bb9e",
   "metadata": {},
   "outputs": [
    {
     "data": {
      "text/plain": [
       "array([-147.1006172])"
      ]
     },
     "execution_count": 76,
     "metadata": {},
     "output_type": "execute_result"
    }
   ],
   "source": [
    "lm.intercept_"
   ]
  },
  {
   "cell_type": "code",
   "execution_count": null,
   "id": "cb7c0787",
   "metadata": {},
   "outputs": [],
   "source": []
  },
  {
   "cell_type": "code",
   "execution_count": 77,
   "id": "3d2588ce",
   "metadata": {},
   "outputs": [
    {
     "data": {
      "text/plain": [
       "array([[1.00566919]])"
      ]
     },
     "execution_count": 77,
     "metadata": {},
     "output_type": "execute_result"
    }
   ],
   "source": [
    "lm.coef_"
   ]
  },
  {
   "cell_type": "code",
   "execution_count": 78,
   "id": "a59cd903",
   "metadata": {},
   "outputs": [
    {
     "data": {
      "text/plain": [
       "14651.161313044828"
      ]
     },
     "execution_count": 78,
     "metadata": {},
     "output_type": "execute_result"
    }
   ],
   "source": [
    "#find the RMSE\n",
    "from sklearn.metrics import mean_squared_error\n",
    "mse = mean_squared_error(df['price'], yhat)\n",
    "rmse = np.sqrt(mse)\n",
    "rmse"
   ]
  },
  {
   "cell_type": "code",
   "execution_count": null,
   "id": "1961abab",
   "metadata": {},
   "outputs": [],
   "source": []
  },
  {
   "cell_type": "code",
   "execution_count": 79,
   "id": "0150ff1d",
   "metadata": {},
   "outputs": [],
   "source": [
    "# multi"
   ]
  },
  {
   "cell_type": "code",
   "execution_count": 80,
   "id": "0922bcdd",
   "metadata": {},
   "outputs": [
    {
     "data": {
      "text/html": [
       "<div>\n",
       "<style scoped>\n",
       "    .dataframe tbody tr th:only-of-type {\n",
       "        vertical-align: middle;\n",
       "    }\n",
       "\n",
       "    .dataframe tbody tr th {\n",
       "        vertical-align: top;\n",
       "    }\n",
       "\n",
       "    .dataframe thead th {\n",
       "        text-align: right;\n",
       "    }\n",
       "</style>\n",
       "<table border=\"1\" class=\"dataframe\">\n",
       "  <thead>\n",
       "    <tr style=\"text-align: right;\">\n",
       "      <th></th>\n",
       "      <th>brand_target</th>\n",
       "      <th>fuel_type_target</th>\n",
       "      <th>transmission_target</th>\n",
       "      <th>age</th>\n",
       "      <th>milage</th>\n",
       "      <th>Horsepower</th>\n",
       "      <th>Engine_Displacement</th>\n",
       "    </tr>\n",
       "  </thead>\n",
       "  <tbody>\n",
       "    <tr>\n",
       "      <th>0</th>\n",
       "      <td>29635.891644</td>\n",
       "      <td>26727.332745</td>\n",
       "      <td>43181.389894</td>\n",
       "      <td>6</td>\n",
       "      <td>74349</td>\n",
       "      <td>375.0</td>\n",
       "      <td>3.5</td>\n",
       "    </tr>\n",
       "    <tr>\n",
       "      <th>1</th>\n",
       "      <td>29528.898910</td>\n",
       "      <td>26727.332745</td>\n",
       "      <td>25182.333038</td>\n",
       "      <td>17</td>\n",
       "      <td>80000</td>\n",
       "      <td>300.0</td>\n",
       "      <td>3.0</td>\n",
       "    </tr>\n",
       "    <tr>\n",
       "      <th>2</th>\n",
       "      <td>25565.730508</td>\n",
       "      <td>26727.332745</td>\n",
       "      <td>22442.515973</td>\n",
       "      <td>15</td>\n",
       "      <td>91491</td>\n",
       "      <td>300.0</td>\n",
       "      <td>4.2</td>\n",
       "    </tr>\n",
       "    <tr>\n",
       "      <th>3</th>\n",
       "      <td>29528.898910</td>\n",
       "      <td>34880.205593</td>\n",
       "      <td>31183.413245</td>\n",
       "      <td>2</td>\n",
       "      <td>2437</td>\n",
       "      <td>335.0</td>\n",
       "      <td>3.0</td>\n",
       "    </tr>\n",
       "    <tr>\n",
       "      <th>4</th>\n",
       "      <td>15315.025511</td>\n",
       "      <td>26727.332745</td>\n",
       "      <td>22179.077309</td>\n",
       "      <td>23</td>\n",
       "      <td>111000</td>\n",
       "      <td>200.0</td>\n",
       "      <td>3.8</td>\n",
       "    </tr>\n",
       "  </tbody>\n",
       "</table>\n",
       "</div>"
      ],
      "text/plain": [
       "   brand_target  fuel_type_target  transmission_target  age  milage  \\\n",
       "0  29635.891644      26727.332745         43181.389894    6   74349   \n",
       "1  29528.898910      26727.332745         25182.333038   17   80000   \n",
       "2  25565.730508      26727.332745         22442.515973   15   91491   \n",
       "3  29528.898910      34880.205593         31183.413245    2    2437   \n",
       "4  15315.025511      26727.332745         22179.077309   23  111000   \n",
       "\n",
       "   Horsepower  Engine_Displacement  \n",
       "0       375.0                  3.5  \n",
       "1       300.0                  3.0  \n",
       "2       300.0                  4.2  \n",
       "3       335.0                  3.0  \n",
       "4       200.0                  3.8  "
      ]
     },
     "execution_count": 80,
     "metadata": {},
     "output_type": "execute_result"
    }
   ],
   "source": [
    "#define Z as the input\n",
    "Z = df[['brand_target', 'fuel_type_target', 'transmission_target', 'age', 'milage', 'Horsepower', 'Engine_Displacement']]\n",
    "Z.head()"
   ]
  },
  {
   "cell_type": "code",
   "execution_count": 81,
   "id": "7f998b71",
   "metadata": {},
   "outputs": [
    {
     "data": {
      "text/plain": [
       "LinearRegression()"
      ]
     },
     "execution_count": 81,
     "metadata": {},
     "output_type": "execute_result"
    }
   ],
   "source": [
    "lm.fit(Z, y)"
   ]
  },
  {
   "cell_type": "code",
   "execution_count": 82,
   "id": "17639eb0",
   "metadata": {},
   "outputs": [
    {
     "data": {
      "text/plain": [
       "array([[35109.59541679],\n",
       "       [18644.79728467],\n",
       "       [19546.25988824],\n",
       "       [45093.14489813],\n",
       "       [ 5201.8968671 ]])"
      ]
     },
     "execution_count": 82,
     "metadata": {},
     "output_type": "execute_result"
    }
   ],
   "source": [
    "#make predictions\n",
    "yhat2 = lm.predict(Z)\n",
    "yhat2[0:5]"
   ]
  },
  {
   "cell_type": "code",
   "execution_count": 83,
   "id": "0f39341a",
   "metadata": {},
   "outputs": [
    {
     "data": {
      "text/plain": [
       "array([14322.96513756])"
      ]
     },
     "execution_count": 83,
     "metadata": {},
     "output_type": "execute_result"
    }
   ],
   "source": [
    "lm.intercept_\n"
   ]
  },
  {
   "cell_type": "code",
   "execution_count": 84,
   "id": "4b29d430",
   "metadata": {},
   "outputs": [
    {
     "data": {
      "text/plain": [
       "array([[ 1.20297529e-01,  3.14331343e-01,  1.50478736e-01,\n",
       "        -9.33288960e+02, -1.01053836e-01,  3.27210302e+01,\n",
       "         9.04281575e+02]])"
      ]
     },
     "execution_count": 84,
     "metadata": {},
     "output_type": "execute_result"
    }
   ],
   "source": [
    "lm.coef_\n"
   ]
  },
  {
   "cell_type": "code",
   "execution_count": 85,
   "id": "784361b6",
   "metadata": {},
   "outputs": [
    {
     "data": {
      "text/plain": [
       "9975.865587902967"
      ]
     },
     "execution_count": 85,
     "metadata": {},
     "output_type": "execute_result"
    }
   ],
   "source": [
    "#find the RMSE\n",
    "from sklearn.metrics import mean_squared_error\n",
    "mse1 = mean_squared_error(df['price'], yhat2)\n",
    "rmse1 = np.sqrt(mse1)\n",
    "rmse1"
   ]
  },
  {
   "cell_type": "code",
   "execution_count": null,
   "id": "f5ddf3c0",
   "metadata": {},
   "outputs": [],
   "source": []
  },
  {
   "cell_type": "code",
   "execution_count": 86,
   "id": "8c11963e",
   "metadata": {},
   "outputs": [],
   "source": [
    "#train test split\n",
    "from sklearn.model_selection import train_test_split\n",
    "x_train, x_test, y_train, y_test = train_test_split(Z, y, test_size = 0.2, random_state = 0)"
   ]
  },
  {
   "cell_type": "code",
   "execution_count": 87,
   "id": "932e1929",
   "metadata": {},
   "outputs": [
    {
     "data": {
      "text/plain": [
       "LinearRegression()"
      ]
     },
     "execution_count": 87,
     "metadata": {},
     "output_type": "execute_result"
    }
   ],
   "source": [
    "lm.fit(x_train, y_train)"
   ]
  },
  {
   "cell_type": "code",
   "execution_count": 88,
   "id": "b386af4c",
   "metadata": {},
   "outputs": [
    {
     "data": {
      "text/plain": [
       "array([[34412.44158674],\n",
       "       [33540.66013946],\n",
       "       [36125.86074169],\n",
       "       [33541.18286002],\n",
       "       [38222.64725266]])"
      ]
     },
     "execution_count": 88,
     "metadata": {},
     "output_type": "execute_result"
    }
   ],
   "source": [
    "#make predictions\n",
    "yhat3 = lm.predict(x_test)\n",
    "yhat3[0:5]"
   ]
  },
  {
   "cell_type": "code",
   "execution_count": 89,
   "id": "df300fca",
   "metadata": {},
   "outputs": [
    {
     "data": {
      "text/plain": [
       "9975.865587902967"
      ]
     },
     "execution_count": 89,
     "metadata": {},
     "output_type": "execute_result"
    }
   ],
   "source": [
    "#find the RMSE\n",
    "from sklearn.metrics import mean_squared_error\n",
    "mse2 = mean_squared_error(df['price'], yhat2)\n",
    "rmse2 = np.sqrt(mse2)\n",
    "rmse2"
   ]
  },
  {
   "cell_type": "code",
   "execution_count": 90,
   "id": "a71d854f",
   "metadata": {},
   "outputs": [],
   "source": [
    "# perform polynomial regression\n",
    "from sklearn.preprocessing import PolynomialFeatures\n",
    "from sklearn.linear_model import LinearRegression\n",
    "from sklearn.metrics import mean_squared_error, r2_score"
   ]
  },
  {
   "cell_type": "code",
   "execution_count": 91,
   "id": "2ed818a7",
   "metadata": {},
   "outputs": [],
   "source": [
    "def PlotPolly(model, independent_variable, dependent_variabble, Name):\n",
    "    x_new = np.linspace(15, 55, 100)\n",
    "    y_new = model(x_new)\n",
    "\n",
    "    plt.plot(independent_variable, dependent_variabble, '.', x_new, y_new, '-')\n",
    "    plt.title('Polynomial Fit with Matplotlib for Price ~ Length')\n",
    "    ax = plt.gca()\n",
    "    ax.set_facecolor((0.898, 0.898, 0.898))\n",
    "    fig = plt.gcf()\n",
    "    plt.xlabel(Name)\n",
    "    plt.ylabel('Price of Cars')\n",
    "\n",
    "    plt.show()\n",
    "    plt.close()"
   ]
  },
  {
   "cell_type": "code",
   "execution_count": 92,
   "id": "13cf981b",
   "metadata": {},
   "outputs": [
    {
     "data": {
      "text/plain": [
       "PolynomialFeatures(degree=3)"
      ]
     },
     "execution_count": 92,
     "metadata": {},
     "output_type": "execute_result"
    }
   ],
   "source": [
    "pr = PolynomialFeatures(degree=3)\n",
    "pr"
   ]
  },
  {
   "cell_type": "code",
   "execution_count": 93,
   "id": "b656b84d",
   "metadata": {},
   "outputs": [
    {
     "data": {
      "text/plain": [
       "(47678, 120)"
      ]
     },
     "execution_count": 93,
     "metadata": {},
     "output_type": "execute_result"
    }
   ],
   "source": [
    "#fit transform Z\n",
    "Z_pr = pr.fit_transform(Z)\n",
    "Z_pr.shape"
   ]
  },
  {
   "cell_type": "code",
   "execution_count": 94,
   "id": "5debf525",
   "metadata": {},
   "outputs": [
    {
     "data": {
      "text/plain": [
       "LinearRegression()"
      ]
     },
     "execution_count": 94,
     "metadata": {},
     "output_type": "execute_result"
    }
   ],
   "source": [
    "poly = LinearRegression()\n",
    "poly"
   ]
  },
  {
   "cell_type": "code",
   "execution_count": 95,
   "id": "9bf75260",
   "metadata": {},
   "outputs": [
    {
     "data": {
      "text/plain": [
       "LinearRegression()"
      ]
     },
     "execution_count": 95,
     "metadata": {},
     "output_type": "execute_result"
    }
   ],
   "source": [
    "poly.fit(Z_pr, y)"
   ]
  },
  {
   "cell_type": "code",
   "execution_count": 96,
   "id": "80ecd83f",
   "metadata": {},
   "outputs": [],
   "source": [
    "#import standard scaler and pipeline\n",
    "from sklearn.pipeline import Pipeline\n",
    "from sklearn.preprocessing import StandardScaler\n",
    "#create a list of tuples - each containing a model/estimator and its constructor\n",
    "Input=[('scale',StandardScaler()), ('polynomial', PolynomialFeatures(include_bias=False)), ('model',LinearRegression())]"
   ]
  },
  {
   "cell_type": "code",
   "execution_count": 97,
   "id": "ca20e69d",
   "metadata": {},
   "outputs": [
    {
     "data": {
      "text/plain": [
       "Pipeline(steps=[('scale', StandardScaler()),\n",
       "                ('polynomial', PolynomialFeatures(include_bias=False)),\n",
       "                ('model', LinearRegression())])"
      ]
     },
     "execution_count": 97,
     "metadata": {},
     "output_type": "execute_result"
    }
   ],
   "source": [
    "pipe=Pipeline(Input)\n",
    "pipe"
   ]
  },
  {
   "cell_type": "code",
   "execution_count": null,
   "id": "34ed217a",
   "metadata": {},
   "outputs": [],
   "source": [
    "pipe.fit(Z_pr,y)"
   ]
  },
  {
   "cell_type": "code",
   "execution_count": null,
   "id": "d7f95c23",
   "metadata": {},
   "outputs": [],
   "source": [
    "ypipe=pipe.predict(Z_pr)\n",
    "ypipe[0:4]"
   ]
  },
  {
   "cell_type": "code",
   "execution_count": null,
   "id": "8b519581",
   "metadata": {},
   "outputs": [],
   "source": [
    "#find the RMSE\n",
    "from sklearn.metrics import mean_squared_error\n",
    "mse3 = mean_squared_error(df['price'], ypipe)\n",
    "rmse3 = np.sqrt(mse3)\n",
    "rmse2"
   ]
  }
 ],
 "metadata": {
  "kernelspec": {
   "display_name": "Python 3 (ipykernel)",
   "language": "python",
   "name": "python3"
  },
  "language_info": {
   "codemirror_mode": {
    "name": "ipython",
    "version": 3
   },
   "file_extension": ".py",
   "mimetype": "text/x-python",
   "name": "python",
   "nbconvert_exporter": "python",
   "pygments_lexer": "ipython3",
   "version": "3.9.13"
  }
 },
 "nbformat": 4,
 "nbformat_minor": 5
}
